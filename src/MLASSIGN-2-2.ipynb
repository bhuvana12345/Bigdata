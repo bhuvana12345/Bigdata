{
 "cells": [
  {
   "cell_type": "code",
   "execution_count": 1,
   "id": "f0944217",
   "metadata": {},
   "outputs": [],
   "source": [
    "import pandas as pd\n",
    "import numpy as np\n",
    "import seaborn as sns\n",
    "import random\n",
    "from sklearn.decomposition import PCA\n",
    "from numpy.linalg import inv\n",
    "import matplotlib.pyplot as plt\n",
    "from sklearn.metrics import confusion_matrix\n",
    "from sklearn.ensemble import RandomForestClassifier\n",
    "from sklearn.metrics import plot_confusion_matrix\n",
    "\n"
   ]
  },
  {
   "cell_type": "code",
   "execution_count": 2,
   "id": "d51f4e42",
   "metadata": {},
   "outputs": [],
   "source": [
    "# Read a feature space\n",
    "LO_nonover = pd.read_csv('/Users/bhuvanakorrapati/Desktop/output/merge_LO.csv',header=None)\n",
    "\n",
    "LO_over = pd.read_csv('/Users/bhuvanakorrapati/Desktop/output/overlapping_merge_LO.csv',header=None)\n",
    "\n",
    "LOA_nonover = pd.read_csv('/Users/bhuvanakorrapati/Desktop/output/merge_LOA.csv',header=None)\n",
    "\n",
    "LOA_over = pd.read_csv('/Users/bhuvanakorrapati/Desktop/output/overlapping_merge_LOA.csv',header=None)\n",
    "\n"
   ]
  },
  {
   "cell_type": "markdown",
   "id": "3fbab619",
   "metadata": {},
   "source": [
    "### Spliting testing and training data by 80 and 20 "
   ]
  },
  {
   "cell_type": "code",
   "execution_count": 3,
   "id": "4cac0ef5",
   "metadata": {},
   "outputs": [],
   "source": [
    "train_LO_nonover = LO_nonover.sample(frac=0.8)\n",
    "test_LO_nonover = LO_nonover.drop(train_LO_nonover.index)\n"
   ]
  },
  {
   "cell_type": "code",
   "execution_count": 4,
   "id": "c2a09d89",
   "metadata": {},
   "outputs": [
    {
     "data": {
      "text/plain": [
       "(564, 145)"
      ]
     },
     "execution_count": 4,
     "metadata": {},
     "output_type": "execute_result"
    }
   ],
   "source": [
    "train_LO_nonover.shape"
   ]
  },
  {
   "cell_type": "code",
   "execution_count": 5,
   "id": "163a6eb0",
   "metadata": {},
   "outputs": [
    {
     "data": {
      "text/plain": [
       "(141, 145)"
      ]
     },
     "execution_count": 5,
     "metadata": {},
     "output_type": "execute_result"
    }
   ],
   "source": [
    "test_LO_nonover.shape\n"
   ]
  },
  {
   "cell_type": "code",
   "execution_count": 6,
   "id": "6d41d2d1",
   "metadata": {},
   "outputs": [],
   "source": [
    "train_LO_nonover.to_csv('/Users/bhuvanakorrapati/Desktop/output1/train_LO_nonover.csv', index=False)"
   ]
  },
  {
   "cell_type": "code",
   "execution_count": 7,
   "id": "67439ab2",
   "metadata": {},
   "outputs": [],
   "source": [
    "test_LO_nonover.to_csv('/Users/bhuvanakorrapati/Desktop/output1/test_LO_nonover.csv', index=False)\n"
   ]
  },
  {
   "cell_type": "code",
   "execution_count": 8,
   "id": "20109ccf",
   "metadata": {},
   "outputs": [],
   "source": [
    "train_LO_over = LO_over.sample(frac=0.8)\n",
    "test_LO_over = LO_over.drop(train_LO_over.index)"
   ]
  },
  {
   "cell_type": "code",
   "execution_count": 9,
   "id": "9c44e067",
   "metadata": {},
   "outputs": [
    {
     "data": {
      "text/plain": [
       "(72577, 145)"
      ]
     },
     "execution_count": 9,
     "metadata": {},
     "output_type": "execute_result"
    }
   ],
   "source": [
    "train_LO_over.shape\n"
   ]
  },
  {
   "cell_type": "code",
   "execution_count": 10,
   "id": "40bf6dcc",
   "metadata": {},
   "outputs": [
    {
     "data": {
      "text/plain": [
       "(18144, 145)"
      ]
     },
     "execution_count": 10,
     "metadata": {},
     "output_type": "execute_result"
    }
   ],
   "source": [
    "test_LO_over.shape"
   ]
  },
  {
   "cell_type": "code",
   "execution_count": 11,
   "id": "080ae9f1",
   "metadata": {},
   "outputs": [],
   "source": [
    "train_LO_over.to_csv('/Users/bhuvanakorrapati/Desktop/output1/train_LO_over.csv', index=False)\n",
    "test_LO_over.to_csv('/Users/bhuvanakorrapati/Desktop/output1/test_LO_over.csv', index=False)"
   ]
  },
  {
   "cell_type": "code",
   "execution_count": 12,
   "id": "e99bf218",
   "metadata": {},
   "outputs": [],
   "source": [
    "train_LOA_nonover = LOA_nonover.sample(frac=0.8)\n",
    "test_LOA_nonover = LOA_nonover.drop(train_LOA_nonover.index)\n",
    "\n"
   ]
  },
  {
   "cell_type": "code",
   "execution_count": 13,
   "id": "34fc6519",
   "metadata": {},
   "outputs": [
    {
     "data": {
      "text/plain": [
       "(846, 145)"
      ]
     },
     "execution_count": 13,
     "metadata": {},
     "output_type": "execute_result"
    }
   ],
   "source": [
    "train_LOA_nonover.shape"
   ]
  },
  {
   "cell_type": "code",
   "execution_count": 14,
   "id": "f1bb0573",
   "metadata": {},
   "outputs": [
    {
     "data": {
      "text/plain": [
       "(211, 145)"
      ]
     },
     "execution_count": 14,
     "metadata": {},
     "output_type": "execute_result"
    }
   ],
   "source": [
    "test_LOA_nonover.shape"
   ]
  },
  {
   "cell_type": "code",
   "execution_count": 15,
   "id": "91494c7e",
   "metadata": {},
   "outputs": [],
   "source": [
    "train_LOA_nonover.to_csv('/Users/bhuvanakorrapati/Desktop/output1/train_LOA_nonover.csv', index=False)\n",
    "\n",
    "test_LOA_nonover.to_csv('/Users/bhuvanakorrapati/Desktop/output1/test_LOA_nonover.csv', index=False)\n"
   ]
  },
  {
   "cell_type": "code",
   "execution_count": 16,
   "id": "d3cbc7a4",
   "metadata": {},
   "outputs": [],
   "source": [
    "train_LOA_over = LO_over.sample(frac=0.8)\n",
    "test_LOA_over = LO_over.drop(train_LOA_over.index)"
   ]
  },
  {
   "cell_type": "code",
   "execution_count": 17,
   "id": "0d91b4b3",
   "metadata": {},
   "outputs": [
    {
     "data": {
      "text/plain": [
       "(72577, 145)"
      ]
     },
     "execution_count": 17,
     "metadata": {},
     "output_type": "execute_result"
    }
   ],
   "source": [
    "train_LOA_over.shape\n",
    "\n"
   ]
  },
  {
   "cell_type": "code",
   "execution_count": 18,
   "id": "dc77d858",
   "metadata": {},
   "outputs": [
    {
     "data": {
      "text/plain": [
       "(18144, 145)"
      ]
     },
     "execution_count": 18,
     "metadata": {},
     "output_type": "execute_result"
    }
   ],
   "source": [
    "test_LOA_over.shape\n",
    "\n"
   ]
  },
  {
   "cell_type": "code",
   "execution_count": 19,
   "id": "88afed7c",
   "metadata": {},
   "outputs": [],
   "source": [
    "train_LOA_over.to_csv('/Users/bhuvanakorrapati/Desktop/output1/train_LOA_over.csv', index=False)\n",
    "test_LOA_over.to_csv('/Users/bhuvanakorrapati/Desktop/output1/test_LOA_over.csv', index=False)"
   ]
  },
  {
   "cell_type": "markdown",
   "id": "031eda5c",
   "metadata": {},
   "source": [
    "train_LO_nonover \n",
    "test_LO_nonover\n",
    "\n",
    "train_LO_over \n",
    "test_LO_over\n",
    "\n",
    "train_LOA_nonover \n",
    "test_LOA_nonover\n",
    "\n",
    "train_LOA_over \n",
    "test_LOA_over\n",
    "\n"
   ]
  },
  {
   "cell_type": "markdown",
   "id": "d4c1e5a8",
   "metadata": {},
   "source": [
    "### Select features from dataset and check if they are correlated\n"
   ]
  },
  {
   "cell_type": "code",
   "execution_count": 20,
   "id": "9739090b",
   "metadata": {},
   "outputs": [],
   "source": [
    "df_LO = train_LO_nonover .iloc[:, :-1]\n"
   ]
  },
  {
   "cell_type": "code",
   "execution_count": 21,
   "id": "7f26a85d",
   "metadata": {},
   "outputs": [
    {
     "data": {
      "text/html": [
       "<div>\n",
       "<style scoped>\n",
       "    .dataframe tbody tr th:only-of-type {\n",
       "        vertical-align: middle;\n",
       "    }\n",
       "\n",
       "    .dataframe tbody tr th {\n",
       "        vertical-align: top;\n",
       "    }\n",
       "\n",
       "    .dataframe thead th {\n",
       "        text-align: right;\n",
       "    }\n",
       "</style>\n",
       "<table border=\"1\" class=\"dataframe\">\n",
       "  <thead>\n",
       "    <tr style=\"text-align: right;\">\n",
       "      <th></th>\n",
       "      <th>0</th>\n",
       "      <th>1</th>\n",
       "      <th>2</th>\n",
       "      <th>3</th>\n",
       "      <th>4</th>\n",
       "      <th>5</th>\n",
       "      <th>6</th>\n",
       "      <th>7</th>\n",
       "      <th>8</th>\n",
       "      <th>9</th>\n",
       "      <th>...</th>\n",
       "      <th>134</th>\n",
       "      <th>135</th>\n",
       "      <th>136</th>\n",
       "      <th>137</th>\n",
       "      <th>138</th>\n",
       "      <th>139</th>\n",
       "      <th>140</th>\n",
       "      <th>141</th>\n",
       "      <th>142</th>\n",
       "      <th>143</th>\n",
       "    </tr>\n",
       "  </thead>\n",
       "  <tbody>\n",
       "    <tr>\n",
       "      <th>count</th>\n",
       "      <td>564.000000</td>\n",
       "      <td>564.000000</td>\n",
       "      <td>564.000000</td>\n",
       "      <td>564.000000</td>\n",
       "      <td>564.000000</td>\n",
       "      <td>564.000000</td>\n",
       "      <td>564.000000</td>\n",
       "      <td>564.000000</td>\n",
       "      <td>564.00000</td>\n",
       "      <td>564.000000</td>\n",
       "      <td>...</td>\n",
       "      <td>564.000000</td>\n",
       "      <td>564.000000</td>\n",
       "      <td>564.000000</td>\n",
       "      <td>564.000000</td>\n",
       "      <td>564.000000</td>\n",
       "      <td>564.000000</td>\n",
       "      <td>564.000000</td>\n",
       "      <td>564.000000</td>\n",
       "      <td>564.000000</td>\n",
       "      <td>564.000000</td>\n",
       "    </tr>\n",
       "    <tr>\n",
       "      <th>mean</th>\n",
       "      <td>136.762411</td>\n",
       "      <td>136.035461</td>\n",
       "      <td>136.407801</td>\n",
       "      <td>136.393617</td>\n",
       "      <td>136.645390</td>\n",
       "      <td>136.936170</td>\n",
       "      <td>137.586879</td>\n",
       "      <td>137.881206</td>\n",
       "      <td>136.50000</td>\n",
       "      <td>136.730496</td>\n",
       "      <td>...</td>\n",
       "      <td>137.570922</td>\n",
       "      <td>136.656028</td>\n",
       "      <td>136.815603</td>\n",
       "      <td>136.421986</td>\n",
       "      <td>136.656028</td>\n",
       "      <td>137.040780</td>\n",
       "      <td>136.289007</td>\n",
       "      <td>137.365248</td>\n",
       "      <td>137.358156</td>\n",
       "      <td>137.664894</td>\n",
       "    </tr>\n",
       "    <tr>\n",
       "      <th>std</th>\n",
       "      <td>45.760364</td>\n",
       "      <td>45.558178</td>\n",
       "      <td>46.718807</td>\n",
       "      <td>46.511074</td>\n",
       "      <td>46.244102</td>\n",
       "      <td>46.736625</td>\n",
       "      <td>45.903883</td>\n",
       "      <td>45.863436</td>\n",
       "      <td>46.26142</td>\n",
       "      <td>47.088350</td>\n",
       "      <td>...</td>\n",
       "      <td>45.954417</td>\n",
       "      <td>46.430859</td>\n",
       "      <td>46.158635</td>\n",
       "      <td>45.930513</td>\n",
       "      <td>46.112598</td>\n",
       "      <td>45.778524</td>\n",
       "      <td>46.144223</td>\n",
       "      <td>45.908333</td>\n",
       "      <td>45.890356</td>\n",
       "      <td>45.662241</td>\n",
       "    </tr>\n",
       "    <tr>\n",
       "      <th>min</th>\n",
       "      <td>12.000000</td>\n",
       "      <td>12.000000</td>\n",
       "      <td>4.000000</td>\n",
       "      <td>4.000000</td>\n",
       "      <td>4.000000</td>\n",
       "      <td>5.000000</td>\n",
       "      <td>7.000000</td>\n",
       "      <td>6.000000</td>\n",
       "      <td>5.00000</td>\n",
       "      <td>4.000000</td>\n",
       "      <td>...</td>\n",
       "      <td>11.000000</td>\n",
       "      <td>5.000000</td>\n",
       "      <td>3.000000</td>\n",
       "      <td>4.000000</td>\n",
       "      <td>6.000000</td>\n",
       "      <td>8.000000</td>\n",
       "      <td>7.000000</td>\n",
       "      <td>5.000000</td>\n",
       "      <td>7.000000</td>\n",
       "      <td>13.000000</td>\n",
       "    </tr>\n",
       "    <tr>\n",
       "      <th>25%</th>\n",
       "      <td>108.000000</td>\n",
       "      <td>108.000000</td>\n",
       "      <td>108.000000</td>\n",
       "      <td>109.000000</td>\n",
       "      <td>110.000000</td>\n",
       "      <td>108.000000</td>\n",
       "      <td>110.000000</td>\n",
       "      <td>112.000000</td>\n",
       "      <td>109.00000</td>\n",
       "      <td>109.000000</td>\n",
       "      <td>...</td>\n",
       "      <td>109.000000</td>\n",
       "      <td>107.000000</td>\n",
       "      <td>108.000000</td>\n",
       "      <td>107.000000</td>\n",
       "      <td>108.000000</td>\n",
       "      <td>108.000000</td>\n",
       "      <td>109.000000</td>\n",
       "      <td>109.000000</td>\n",
       "      <td>109.000000</td>\n",
       "      <td>109.750000</td>\n",
       "    </tr>\n",
       "    <tr>\n",
       "      <th>50%</th>\n",
       "      <td>143.000000</td>\n",
       "      <td>140.000000</td>\n",
       "      <td>142.000000</td>\n",
       "      <td>140.500000</td>\n",
       "      <td>142.500000</td>\n",
       "      <td>143.000000</td>\n",
       "      <td>145.000000</td>\n",
       "      <td>145.500000</td>\n",
       "      <td>143.00000</td>\n",
       "      <td>143.000000</td>\n",
       "      <td>...</td>\n",
       "      <td>144.000000</td>\n",
       "      <td>140.000000</td>\n",
       "      <td>141.000000</td>\n",
       "      <td>141.000000</td>\n",
       "      <td>143.000000</td>\n",
       "      <td>142.000000</td>\n",
       "      <td>139.000000</td>\n",
       "      <td>143.000000</td>\n",
       "      <td>143.000000</td>\n",
       "      <td>143.000000</td>\n",
       "    </tr>\n",
       "    <tr>\n",
       "      <th>75%</th>\n",
       "      <td>170.000000</td>\n",
       "      <td>171.000000</td>\n",
       "      <td>172.000000</td>\n",
       "      <td>171.250000</td>\n",
       "      <td>171.000000</td>\n",
       "      <td>172.000000</td>\n",
       "      <td>171.000000</td>\n",
       "      <td>170.000000</td>\n",
       "      <td>170.00000</td>\n",
       "      <td>171.000000</td>\n",
       "      <td>...</td>\n",
       "      <td>172.000000</td>\n",
       "      <td>172.000000</td>\n",
       "      <td>171.000000</td>\n",
       "      <td>171.250000</td>\n",
       "      <td>171.250000</td>\n",
       "      <td>172.000000</td>\n",
       "      <td>172.000000</td>\n",
       "      <td>172.000000</td>\n",
       "      <td>174.000000</td>\n",
       "      <td>172.000000</td>\n",
       "    </tr>\n",
       "    <tr>\n",
       "      <th>max</th>\n",
       "      <td>249.000000</td>\n",
       "      <td>223.000000</td>\n",
       "      <td>233.000000</td>\n",
       "      <td>227.000000</td>\n",
       "      <td>246.000000</td>\n",
       "      <td>245.000000</td>\n",
       "      <td>242.000000</td>\n",
       "      <td>237.000000</td>\n",
       "      <td>236.00000</td>\n",
       "      <td>241.000000</td>\n",
       "      <td>...</td>\n",
       "      <td>237.000000</td>\n",
       "      <td>225.000000</td>\n",
       "      <td>235.000000</td>\n",
       "      <td>239.000000</td>\n",
       "      <td>237.000000</td>\n",
       "      <td>229.000000</td>\n",
       "      <td>228.000000</td>\n",
       "      <td>237.000000</td>\n",
       "      <td>228.000000</td>\n",
       "      <td>236.000000</td>\n",
       "    </tr>\n",
       "  </tbody>\n",
       "</table>\n",
       "<p>8 rows × 144 columns</p>\n",
       "</div>"
      ],
      "text/plain": [
       "              0           1           2           3           4           5    \\\n",
       "count  564.000000  564.000000  564.000000  564.000000  564.000000  564.000000   \n",
       "mean   136.762411  136.035461  136.407801  136.393617  136.645390  136.936170   \n",
       "std     45.760364   45.558178   46.718807   46.511074   46.244102   46.736625   \n",
       "min     12.000000   12.000000    4.000000    4.000000    4.000000    5.000000   \n",
       "25%    108.000000  108.000000  108.000000  109.000000  110.000000  108.000000   \n",
       "50%    143.000000  140.000000  142.000000  140.500000  142.500000  143.000000   \n",
       "75%    170.000000  171.000000  172.000000  171.250000  171.000000  172.000000   \n",
       "max    249.000000  223.000000  233.000000  227.000000  246.000000  245.000000   \n",
       "\n",
       "              6           7          8           9    ...         134  \\\n",
       "count  564.000000  564.000000  564.00000  564.000000  ...  564.000000   \n",
       "mean   137.586879  137.881206  136.50000  136.730496  ...  137.570922   \n",
       "std     45.903883   45.863436   46.26142   47.088350  ...   45.954417   \n",
       "min      7.000000    6.000000    5.00000    4.000000  ...   11.000000   \n",
       "25%    110.000000  112.000000  109.00000  109.000000  ...  109.000000   \n",
       "50%    145.000000  145.500000  143.00000  143.000000  ...  144.000000   \n",
       "75%    171.000000  170.000000  170.00000  171.000000  ...  172.000000   \n",
       "max    242.000000  237.000000  236.00000  241.000000  ...  237.000000   \n",
       "\n",
       "              135         136         137         138         139         140  \\\n",
       "count  564.000000  564.000000  564.000000  564.000000  564.000000  564.000000   \n",
       "mean   136.656028  136.815603  136.421986  136.656028  137.040780  136.289007   \n",
       "std     46.430859   46.158635   45.930513   46.112598   45.778524   46.144223   \n",
       "min      5.000000    3.000000    4.000000    6.000000    8.000000    7.000000   \n",
       "25%    107.000000  108.000000  107.000000  108.000000  108.000000  109.000000   \n",
       "50%    140.000000  141.000000  141.000000  143.000000  142.000000  139.000000   \n",
       "75%    172.000000  171.000000  171.250000  171.250000  172.000000  172.000000   \n",
       "max    225.000000  235.000000  239.000000  237.000000  229.000000  228.000000   \n",
       "\n",
       "              141         142         143  \n",
       "count  564.000000  564.000000  564.000000  \n",
       "mean   137.365248  137.358156  137.664894  \n",
       "std     45.908333   45.890356   45.662241  \n",
       "min      5.000000    7.000000   13.000000  \n",
       "25%    109.000000  109.000000  109.750000  \n",
       "50%    143.000000  143.000000  143.000000  \n",
       "75%    172.000000  174.000000  172.000000  \n",
       "max    237.000000  228.000000  236.000000  \n",
       "\n",
       "[8 rows x 144 columns]"
      ]
     },
     "execution_count": 21,
     "metadata": {},
     "output_type": "execute_result"
    }
   ],
   "source": [
    "df_LO.describe()\n"
   ]
  },
  {
   "cell_type": "code",
   "execution_count": 22,
   "id": "5006ab18",
   "metadata": {},
   "outputs": [],
   "source": [
    "df1 = df_LO.sample(axis='columns',replace='True')"
   ]
  },
  {
   "cell_type": "code",
   "execution_count": 23,
   "id": "c4c41c6d",
   "metadata": {},
   "outputs": [
    {
     "data": {
      "text/plain": [
       "(564, 1)"
      ]
     },
     "execution_count": 23,
     "metadata": {},
     "output_type": "execute_result"
    }
   ],
   "source": [
    "df1.shape"
   ]
  },
  {
   "cell_type": "code",
   "execution_count": 24,
   "id": "ad730778",
   "metadata": {},
   "outputs": [
    {
     "name": "stdout",
     "output_type": "stream",
     "text": [
      "      43\n",
      "192  111\n",
      "619  138\n",
      "99   107\n",
      "356  102\n",
      "140  202\n",
      "..   ...\n",
      "646  158\n",
      "597  171\n",
      "259  173\n",
      "299   60\n",
      "485   22\n",
      "\n",
      "[564 rows x 1 columns]\n"
     ]
    }
   ],
   "source": [
    "print(df1)\n"
   ]
  },
  {
   "cell_type": "code",
   "execution_count": 25,
   "id": "d1c1a585",
   "metadata": {},
   "outputs": [],
   "source": [
    "df2 = df_LO.sample(axis='columns', replace='True')\n"
   ]
  },
  {
   "cell_type": "code",
   "execution_count": 26,
   "id": "f5faa418",
   "metadata": {},
   "outputs": [],
   "source": [
    "df1_mean = df1.mean()\n",
    "df2_mean = df2.mean()\n"
   ]
  },
  {
   "cell_type": "code",
   "execution_count": 27,
   "id": "82be6347",
   "metadata": {},
   "outputs": [
    {
     "name": "stdout",
     "output_type": "stream",
     "text": [
      "43    136.874113\n",
      "dtype: float64\n",
      "47    137.285461\n",
      "dtype: float64\n"
     ]
    }
   ],
   "source": [
    "print(df1_mean)\n",
    "print(df2_mean)\n"
   ]
  },
  {
   "cell_type": "code",
   "execution_count": 28,
   "id": "499c2e53",
   "metadata": {},
   "outputs": [],
   "source": [
    "df1_std = df1.std()\n",
    "df2_std = df2.std()\n"
   ]
  },
  {
   "cell_type": "code",
   "execution_count": 29,
   "id": "82e1b83e",
   "metadata": {},
   "outputs": [
    {
     "name": "stdout",
     "output_type": "stream",
     "text": [
      "43    46.398308\n",
      "dtype: float64\n",
      "47    45.708223\n",
      "dtype: float64\n"
     ]
    }
   ],
   "source": [
    "print(df1_std)\n",
    "print(df2_std)\n"
   ]
  },
  {
   "cell_type": "code",
   "execution_count": 30,
   "id": "e7ebbf7b",
   "metadata": {},
   "outputs": [],
   "source": [
    "df5 = test_LO_nonover.iloc[:, :-1]\n"
   ]
  },
  {
   "cell_type": "code",
   "execution_count": 31,
   "id": "1e22c151",
   "metadata": {},
   "outputs": [],
   "source": [
    "df3 = df5.sample(axis='columns',replace='True')\n",
    "df4 = df5.sample(axis='columns',replace='True')\n"
   ]
  },
  {
   "cell_type": "code",
   "execution_count": 32,
   "id": "d9c8ada5",
   "metadata": {},
   "outputs": [],
   "source": [
    "df3_mean = df3.mean()\n",
    "df4_mean = df4.mean()\n"
   ]
  },
  {
   "cell_type": "code",
   "execution_count": 33,
   "id": "837e949e",
   "metadata": {},
   "outputs": [
    {
     "name": "stdout",
     "output_type": "stream",
     "text": [
      "41    133.716312\n",
      "dtype: float64\n",
      "102    130.460993\n",
      "dtype: float64\n"
     ]
    }
   ],
   "source": [
    "print(df3_mean)\n",
    "print(df4_mean)\n",
    "\n"
   ]
  },
  {
   "cell_type": "code",
   "execution_count": 34,
   "id": "33cb64ae",
   "metadata": {},
   "outputs": [],
   "source": [
    "df3_std = df3.std()\n",
    "df4_std = df4.std()\n"
   ]
  },
  {
   "cell_type": "code",
   "execution_count": 35,
   "id": "d848f33d",
   "metadata": {},
   "outputs": [
    {
     "name": "stdout",
     "output_type": "stream",
     "text": [
      "41    44.738977\n",
      "dtype: float64\n",
      "102    46.407899\n",
      "dtype: float64\n"
     ]
    }
   ],
   "source": [
    "print(df3_std)\n",
    "print(df4_std)\n",
    "\n"
   ]
  },
  {
   "cell_type": "code",
   "execution_count": 36,
   "id": "a25df6ae",
   "metadata": {},
   "outputs": [
    {
     "data": {
      "text/plain": [
       "array([[<AxesSubplot:title={'center':'47'}>]], dtype=object)"
      ]
     },
     "execution_count": 36,
     "metadata": {},
     "output_type": "execute_result"
    },
    {
     "data": {
      "image/png": "[encoded data removed]",
      "text/plain": [
       "<Figure size 640x480 with 1 Axes>"
      ]
     },
     "metadata": {},
     "output_type": "display_data"
    },
    {
     "data": {
      "image/png": "[encoded data removed]",
      "text/plain": [
       "<Figure size 640x480 with 1 Axes>"
      ]
     },
     "metadata": {},
     "output_type": "display_data"
    }
   ],
   "source": [
    "random_value=np.random.randint(144)\n",
    "df1.hist(bins=144)\n",
    "df2.hist(bins=144)\n",
    "\n"
   ]
  },
  {
   "cell_type": "code",
   "execution_count": 37,
   "id": "58f2d49b",
   "metadata": {},
   "outputs": [
    {
     "data": {
      "text/plain": [
       "array([[<AxesSubplot:title={'center':'102'}>]], dtype=object)"
      ]
     },
     "execution_count": 37,
     "metadata": {},
     "output_type": "execute_result"
    },
    {
     "data": {
      "image/png": "[encoded data removed]",
      "text/plain": [
       "<Figure size 640x480 with 1 Axes>"
      ]
     },
     "metadata": {},
     "output_type": "display_data"
    },
    {
     "data": {
      "image/png": "[encoded data removed]",
      "text/plain": [
       "<Figure size 640x480 with 1 Axes>"
      ]
     },
     "metadata": {},
     "output_type": "display_data"
    }
   ],
   "source": [
    "random_value=np.random.randint(144)\n",
    "df3.hist(bins=144)\n",
    "df4.hist(bins=144)\n",
    "\n"
   ]
  },
  {
   "cell_type": "code",
   "execution_count": 38,
   "id": "055f73b3",
   "metadata": {},
   "outputs": [
    {
     "data": {
      "text/plain": [
       "<matplotlib.collections.PathCollection at 0x7fbdd46543d0>"
      ]
     },
     "execution_count": 38,
     "metadata": {},
     "output_type": "execute_result"
    },
    {
     "data": {
      "image/png": "[encoded data removed]",
      "text/plain": [
       "<Figure size 640x480 with 1 Axes>"
      ]
     },
     "metadata": {},
     "output_type": "display_data"
    }
   ],
   "source": [
    "plt.scatter(df1, df2)"
   ]
  },
  {
   "cell_type": "code",
   "execution_count": 39,
   "id": "5c2d5541",
   "metadata": {},
   "outputs": [
    {
     "data": {
      "text/plain": [
       "<matplotlib.collections.PathCollection at 0x7fbde071a9a0>"
      ]
     },
     "execution_count": 39,
     "metadata": {},
     "output_type": "execute_result"
    },
    {
     "data": {
      "image/png": "[encoded data removed]",
      "text/plain": [
       "<Figure size 640x480 with 1 Axes>"
      ]
     },
     "metadata": {},
     "output_type": "display_data"
    }
   ],
   "source": [
    "plt.scatter(df3,df4)"
   ]
  },
  {
   "cell_type": "markdown",
   "id": "8c3e3e01",
   "metadata": {},
   "source": [
    "## Correlation for overlapping data of two fruits"
   ]
  },
  {
   "cell_type": "code",
   "execution_count": 40,
   "id": "3514db28",
   "metadata": {},
   "outputs": [],
   "source": [
    "df_overlapped_LO = train_LO_over .iloc[:, :-1]"
   ]
  },
  {
   "cell_type": "code",
   "execution_count": 41,
   "id": "671d69ae",
   "metadata": {},
   "outputs": [
    {
     "data": {
      "text/html": [
       "<div>\n",
       "<style scoped>\n",
       "    .dataframe tbody tr th:only-of-type {\n",
       "        vertical-align: middle;\n",
       "    }\n",
       "\n",
       "    .dataframe tbody tr th {\n",
       "        vertical-align: top;\n",
       "    }\n",
       "\n",
       "    .dataframe thead th {\n",
       "        text-align: right;\n",
       "    }\n",
       "</style>\n",
       "<table border=\"1\" class=\"dataframe\">\n",
       "  <thead>\n",
       "    <tr style=\"text-align: right;\">\n",
       "      <th></th>\n",
       "      <th>0</th>\n",
       "      <th>1</th>\n",
       "      <th>2</th>\n",
       "      <th>3</th>\n",
       "      <th>4</th>\n",
       "      <th>5</th>\n",
       "      <th>6</th>\n",
       "      <th>7</th>\n",
       "      <th>8</th>\n",
       "      <th>9</th>\n",
       "      <th>...</th>\n",
       "      <th>134</th>\n",
       "      <th>135</th>\n",
       "      <th>136</th>\n",
       "      <th>137</th>\n",
       "      <th>138</th>\n",
       "      <th>139</th>\n",
       "      <th>140</th>\n",
       "      <th>141</th>\n",
       "      <th>142</th>\n",
       "      <th>143</th>\n",
       "    </tr>\n",
       "  </thead>\n",
       "  <tbody>\n",
       "    <tr>\n",
       "      <th>count</th>\n",
       "      <td>72577.000000</td>\n",
       "      <td>72577.000000</td>\n",
       "      <td>72577.000000</td>\n",
       "      <td>72577.000000</td>\n",
       "      <td>72577.000000</td>\n",
       "      <td>72577.000000</td>\n",
       "      <td>72577.000000</td>\n",
       "      <td>72577.000000</td>\n",
       "      <td>72577.000000</td>\n",
       "      <td>72577.000000</td>\n",
       "      <td>...</td>\n",
       "      <td>72577.000000</td>\n",
       "      <td>72577.000000</td>\n",
       "      <td>72577.000000</td>\n",
       "      <td>72577.000000</td>\n",
       "      <td>72577.00000</td>\n",
       "      <td>72577.000000</td>\n",
       "      <td>72577.000000</td>\n",
       "      <td>72577.000000</td>\n",
       "      <td>72577.000000</td>\n",
       "      <td>72577.000000</td>\n",
       "    </tr>\n",
       "    <tr>\n",
       "      <th>mean</th>\n",
       "      <td>130.963156</td>\n",
       "      <td>130.769114</td>\n",
       "      <td>130.559502</td>\n",
       "      <td>130.353969</td>\n",
       "      <td>130.153506</td>\n",
       "      <td>130.053943</td>\n",
       "      <td>129.949075</td>\n",
       "      <td>129.827204</td>\n",
       "      <td>129.700525</td>\n",
       "      <td>129.605908</td>\n",
       "      <td>...</td>\n",
       "      <td>129.555548</td>\n",
       "      <td>129.400306</td>\n",
       "      <td>129.267481</td>\n",
       "      <td>129.138115</td>\n",
       "      <td>129.03406</td>\n",
       "      <td>128.910247</td>\n",
       "      <td>128.748557</td>\n",
       "      <td>128.679885</td>\n",
       "      <td>128.552186</td>\n",
       "      <td>128.526117</td>\n",
       "    </tr>\n",
       "    <tr>\n",
       "      <th>std</th>\n",
       "      <td>50.244637</td>\n",
       "      <td>50.410742</td>\n",
       "      <td>50.568993</td>\n",
       "      <td>50.691579</td>\n",
       "      <td>50.825115</td>\n",
       "      <td>50.904589</td>\n",
       "      <td>51.000992</td>\n",
       "      <td>51.084122</td>\n",
       "      <td>51.161944</td>\n",
       "      <td>51.208662</td>\n",
       "      <td>...</td>\n",
       "      <td>50.222349</td>\n",
       "      <td>50.327142</td>\n",
       "      <td>50.447647</td>\n",
       "      <td>50.524470</td>\n",
       "      <td>50.62122</td>\n",
       "      <td>50.718156</td>\n",
       "      <td>50.797429</td>\n",
       "      <td>50.838255</td>\n",
       "      <td>50.893592</td>\n",
       "      <td>50.963124</td>\n",
       "    </tr>\n",
       "    <tr>\n",
       "      <th>min</th>\n",
       "      <td>0.000000</td>\n",
       "      <td>0.000000</td>\n",
       "      <td>0.000000</td>\n",
       "      <td>1.000000</td>\n",
       "      <td>0.000000</td>\n",
       "      <td>0.000000</td>\n",
       "      <td>0.000000</td>\n",
       "      <td>0.000000</td>\n",
       "      <td>0.000000</td>\n",
       "      <td>0.000000</td>\n",
       "      <td>...</td>\n",
       "      <td>0.000000</td>\n",
       "      <td>0.000000</td>\n",
       "      <td>0.000000</td>\n",
       "      <td>0.000000</td>\n",
       "      <td>0.00000</td>\n",
       "      <td>0.000000</td>\n",
       "      <td>0.000000</td>\n",
       "      <td>0.000000</td>\n",
       "      <td>0.000000</td>\n",
       "      <td>0.000000</td>\n",
       "    </tr>\n",
       "    <tr>\n",
       "      <th>25%</th>\n",
       "      <td>98.000000</td>\n",
       "      <td>98.000000</td>\n",
       "      <td>97.000000</td>\n",
       "      <td>97.000000</td>\n",
       "      <td>97.000000</td>\n",
       "      <td>97.000000</td>\n",
       "      <td>96.000000</td>\n",
       "      <td>96.000000</td>\n",
       "      <td>96.000000</td>\n",
       "      <td>96.000000</td>\n",
       "      <td>...</td>\n",
       "      <td>97.000000</td>\n",
       "      <td>97.000000</td>\n",
       "      <td>97.000000</td>\n",
       "      <td>96.000000</td>\n",
       "      <td>96.00000</td>\n",
       "      <td>96.000000</td>\n",
       "      <td>96.000000</td>\n",
       "      <td>96.000000</td>\n",
       "      <td>95.000000</td>\n",
       "      <td>95.000000</td>\n",
       "    </tr>\n",
       "    <tr>\n",
       "      <th>50%</th>\n",
       "      <td>135.000000</td>\n",
       "      <td>135.000000</td>\n",
       "      <td>134.000000</td>\n",
       "      <td>134.000000</td>\n",
       "      <td>134.000000</td>\n",
       "      <td>134.000000</td>\n",
       "      <td>134.000000</td>\n",
       "      <td>134.000000</td>\n",
       "      <td>134.000000</td>\n",
       "      <td>134.000000</td>\n",
       "      <td>...</td>\n",
       "      <td>133.000000</td>\n",
       "      <td>133.000000</td>\n",
       "      <td>133.000000</td>\n",
       "      <td>133.000000</td>\n",
       "      <td>132.00000</td>\n",
       "      <td>132.000000</td>\n",
       "      <td>132.000000</td>\n",
       "      <td>132.000000</td>\n",
       "      <td>131.000000</td>\n",
       "      <td>131.000000</td>\n",
       "    </tr>\n",
       "    <tr>\n",
       "      <th>75%</th>\n",
       "      <td>168.000000</td>\n",
       "      <td>168.000000</td>\n",
       "      <td>168.000000</td>\n",
       "      <td>168.000000</td>\n",
       "      <td>168.000000</td>\n",
       "      <td>168.000000</td>\n",
       "      <td>168.000000</td>\n",
       "      <td>168.000000</td>\n",
       "      <td>168.000000</td>\n",
       "      <td>168.000000</td>\n",
       "      <td>...</td>\n",
       "      <td>167.000000</td>\n",
       "      <td>167.000000</td>\n",
       "      <td>167.000000</td>\n",
       "      <td>167.000000</td>\n",
       "      <td>167.00000</td>\n",
       "      <td>167.000000</td>\n",
       "      <td>167.000000</td>\n",
       "      <td>167.000000</td>\n",
       "      <td>167.000000</td>\n",
       "      <td>167.000000</td>\n",
       "    </tr>\n",
       "    <tr>\n",
       "      <th>max</th>\n",
       "      <td>255.000000</td>\n",
       "      <td>255.000000</td>\n",
       "      <td>255.000000</td>\n",
       "      <td>255.000000</td>\n",
       "      <td>255.000000</td>\n",
       "      <td>255.000000</td>\n",
       "      <td>255.000000</td>\n",
       "      <td>255.000000</td>\n",
       "      <td>255.000000</td>\n",
       "      <td>255.000000</td>\n",
       "      <td>...</td>\n",
       "      <td>255.000000</td>\n",
       "      <td>255.000000</td>\n",
       "      <td>255.000000</td>\n",
       "      <td>255.000000</td>\n",
       "      <td>255.00000</td>\n",
       "      <td>255.000000</td>\n",
       "      <td>255.000000</td>\n",
       "      <td>255.000000</td>\n",
       "      <td>255.000000</td>\n",
       "      <td>255.000000</td>\n",
       "    </tr>\n",
       "  </tbody>\n",
       "</table>\n",
       "<p>8 rows × 144 columns</p>\n",
       "</div>"
      ],
      "text/plain": [
       "                0             1             2             3             4    \\\n",
       "count  72577.000000  72577.000000  72577.000000  72577.000000  72577.000000   \n",
       "mean     130.963156    130.769114    130.559502    130.353969    130.153506   \n",
       "std       50.244637     50.410742     50.568993     50.691579     50.825115   \n",
       "min        0.000000      0.000000      0.000000      1.000000      0.000000   \n",
       "25%       98.000000     98.000000     97.000000     97.000000     97.000000   \n",
       "50%      135.000000    135.000000    134.000000    134.000000    134.000000   \n",
       "75%      168.000000    168.000000    168.000000    168.000000    168.000000   \n",
       "max      255.000000    255.000000    255.000000    255.000000    255.000000   \n",
       "\n",
       "                5             6             7             8             9    \\\n",
       "count  72577.000000  72577.000000  72577.000000  72577.000000  72577.000000   \n",
       "mean     130.053943    129.949075    129.827204    129.700525    129.605908   \n",
       "std       50.904589     51.000992     51.084122     51.161944     51.208662   \n",
       "min        0.000000      0.000000      0.000000      0.000000      0.000000   \n",
       "25%       97.000000     96.000000     96.000000     96.000000     96.000000   \n",
       "50%      134.000000    134.000000    134.000000    134.000000    134.000000   \n",
       "75%      168.000000    168.000000    168.000000    168.000000    168.000000   \n",
       "max      255.000000    255.000000    255.000000    255.000000    255.000000   \n",
       "\n",
       "       ...           134           135           136           137  \\\n",
       "count  ...  72577.000000  72577.000000  72577.000000  72577.000000   \n",
       "mean   ...    129.555548    129.400306    129.267481    129.138115   \n",
       "std    ...     50.222349     50.327142     50.447647     50.524470   \n",
       "min    ...      0.000000      0.000000      0.000000      0.000000   \n",
       "25%    ...     97.000000     97.000000     97.000000     96.000000   \n",
       "50%    ...    133.000000    133.000000    133.000000    133.000000   \n",
       "75%    ...    167.000000    167.000000    167.000000    167.000000   \n",
       "max    ...    255.000000    255.000000    255.000000    255.000000   \n",
       "\n",
       "               138           139           140           141           142  \\\n",
       "count  72577.00000  72577.000000  72577.000000  72577.000000  72577.000000   \n",
       "mean     129.03406    128.910247    128.748557    128.679885    128.552186   \n",
       "std       50.62122     50.718156     50.797429     50.838255     50.893592   \n",
       "min        0.00000      0.000000      0.000000      0.000000      0.000000   \n",
       "25%       96.00000     96.000000     96.000000     96.000000     95.000000   \n",
       "50%      132.00000    132.000000    132.000000    132.000000    131.000000   \n",
       "75%      167.00000    167.000000    167.000000    167.000000    167.000000   \n",
       "max      255.00000    255.000000    255.000000    255.000000    255.000000   \n",
       "\n",
       "                143  \n",
       "count  72577.000000  \n",
       "mean     128.526117  \n",
       "std       50.963124  \n",
       "min        0.000000  \n",
       "25%       95.000000  \n",
       "50%      131.000000  \n",
       "75%      167.000000  \n",
       "max      255.000000  \n",
       "\n",
       "[8 rows x 144 columns]"
      ]
     },
     "execution_count": 41,
     "metadata": {},
     "output_type": "execute_result"
    }
   ],
   "source": [
    "df_overlapped_LO.describe()"
   ]
  },
  {
   "cell_type": "code",
   "execution_count": 42,
   "id": "11fe892c",
   "metadata": {},
   "outputs": [],
   "source": [
    "df6 = train_LO_over.iloc[:, :-1]\n",
    "df7 = test_LO_over.iloc[:,:-1]\n"
   ]
  },
  {
   "cell_type": "code",
   "execution_count": 43,
   "id": "cb93dbec",
   "metadata": {},
   "outputs": [],
   "source": [
    "df8 = df6.sample(axis='columns',replace='True')\n",
    "df9 = df6.sample(axis='columns',replace='True')\n",
    "df10 = df7.sample(axis='columns',replace='True')\n",
    "df11 = df7.sample(axis='columns',replace='True')"
   ]
  },
  {
   "cell_type": "code",
   "execution_count": 44,
   "id": "0235acc0",
   "metadata": {},
   "outputs": [],
   "source": [
    "df8_mean = df8.mean()\n",
    "df9_mean = df9.mean()\n",
    "df10_mean = df10.mean()\n",
    "df11_mean = df11.mean()"
   ]
  },
  {
   "cell_type": "code",
   "execution_count": 45,
   "id": "615533a4",
   "metadata": {},
   "outputs": [
    {
     "name": "stdout",
     "output_type": "stream",
     "text": [
      "109    130.058228\n",
      "dtype: float64\n",
      "71    129.1556\n",
      "dtype: float64\n",
      "72    130.138944\n",
      "dtype: float64\n",
      "58    128.492504\n",
      "dtype: float64\n"
     ]
    }
   ],
   "source": [
    "print(df8_mean)\n",
    "print(df9_mean)\n",
    "print(df10_mean)\n",
    "print(df11_mean)"
   ]
  },
  {
   "cell_type": "code",
   "execution_count": 46,
   "id": "e4588701",
   "metadata": {},
   "outputs": [],
   "source": [
    "df8_std = df8.std()\n",
    "df9_std = df9.std()\n",
    "df10_std = df10.std()\n",
    "df11_std = df11.std()"
   ]
  },
  {
   "cell_type": "code",
   "execution_count": 47,
   "id": "36e4c7ee",
   "metadata": {},
   "outputs": [
    {
     "name": "stdout",
     "output_type": "stream",
     "text": [
      "109    50.111814\n",
      "dtype: float64\n",
      "71    51.09657\n",
      "dtype: float64\n",
      "72    50.12893\n",
      "dtype: float64\n",
      "58    51.148183\n",
      "dtype: float64\n"
     ]
    }
   ],
   "source": [
    "print(df8_std)\n",
    "print(df9_std)\n",
    "print(df10_std)\n",
    "print(df11_std)"
   ]
  },
  {
   "cell_type": "code",
   "execution_count": 48,
   "id": "35d07703",
   "metadata": {},
   "outputs": [
    {
     "data": {
      "text/plain": [
       "array([[<AxesSubplot:title={'center':'71'}>]], dtype=object)"
      ]
     },
     "execution_count": 48,
     "metadata": {},
     "output_type": "execute_result"
    },
    {
     "data": {
      "image/png": "[encoded data removed]",
      "text/plain": [
       "<Figure size 640x480 with 1 Axes>"
      ]
     },
     "metadata": {},
     "output_type": "display_data"
    },
    {
     "data": {
      "image/png": "[encoded data removed]",
      "text/plain": [
       "<Figure size 640x480 with 1 Axes>"
      ]
     },
     "metadata": {},
     "output_type": "display_data"
    }
   ],
   "source": [
    "random_value=np.random.randint(144)\n",
    "df8.hist(bins=144)\n",
    "df9.hist(bins=144)"
   ]
  },
  {
   "cell_type": "code",
   "execution_count": 49,
   "id": "29a51392",
   "metadata": {},
   "outputs": [
    {
     "data": {
      "text/plain": [
       "array([[<AxesSubplot:title={'center':'58'}>]], dtype=object)"
      ]
     },
     "execution_count": 49,
     "metadata": {},
     "output_type": "execute_result"
    },
    {
     "data": {
      "image/png": "[encoded data removed]",
      "text/plain": [
       "<Figure size 640x480 with 1 Axes>"
      ]
     },
     "metadata": {},
     "output_type": "display_data"
    },
    {
     "data": {
      "image/png": "[encoded data removed]",
      "text/plain": [
       "<Figure size 640x480 with 1 Axes>"
      ]
     },
     "metadata": {},
     "output_type": "display_data"
    }
   ],
   "source": [
    "random_value=np.random.randint(144)\n",
    "df10.hist(bins=144)\n",
    "df11.hist(bins=144)"
   ]
  },
  {
   "cell_type": "code",
   "execution_count": 50,
   "id": "53fbd385",
   "metadata": {},
   "outputs": [
    {
     "data": {
      "text/plain": [
       "<matplotlib.collections.PathCollection at 0x7fbd901a56d0>"
      ]
     },
     "execution_count": 50,
     "metadata": {},
     "output_type": "execute_result"
    },
    {
     "data": {
      "image/png": "[encoded data removed]",
      "text/plain": [
       "<Figure size 640x480 with 1 Axes>"
      ]
     },
     "metadata": {},
     "output_type": "display_data"
    }
   ],
   "source": [
    "plt.scatter(df8,df9)"
   ]
  },
  {
   "cell_type": "code",
   "execution_count": 51,
   "id": "047f2285",
   "metadata": {},
   "outputs": [
    {
     "data": {
      "text/plain": [
       "<matplotlib.collections.PathCollection at 0x7fbde087b070>"
      ]
     },
     "execution_count": 51,
     "metadata": {},
     "output_type": "execute_result"
    },
    {
     "data": {
      "image/png": "[encoded data removed]",
      "text/plain": [
       "<Figure size 640x480 with 1 Axes>"
      ]
     },
     "metadata": {},
     "output_type": "display_data"
    }
   ],
   "source": [
    "plt.scatter(df10,df11)"
   ]
  },
  {
   "cell_type": "markdown",
   "id": "70ee621f",
   "metadata": {},
   "source": [
    "b = random.randint(1,144)\n",
    "training_data[b].hist(bins=40)\n",
    "print(\"The column number is\",b)\n"
   ]
  },
  {
   "cell_type": "code",
   "execution_count": null,
   "id": "b834a329",
   "metadata": {},
   "outputs": [],
   "source": []
  },
  {
   "cell_type": "code",
   "execution_count": null,
   "id": "d65b46f9",
   "metadata": {},
   "outputs": [],
   "source": []
  },
  {
   "cell_type": "code",
   "execution_count": null,
   "id": "62a21062",
   "metadata": {},
   "outputs": [],
   "source": []
  },
  {
   "cell_type": "code",
   "execution_count": null,
   "id": "a6bb7e2d",
   "metadata": {},
   "outputs": [],
   "source": []
  },
  {
   "cell_type": "code",
   "execution_count": null,
   "id": "a1d6f54e",
   "metadata": {},
   "outputs": [],
   "source": []
  },
  {
   "cell_type": "markdown",
   "id": "d9c44f56",
   "metadata": {},
   "source": [
    "### SCATTER PLOT"
   ]
  },
  {
   "cell_type": "code",
   "execution_count": null,
   "id": "8da0680a",
   "metadata": {},
   "outputs": [],
   "source": []
  },
  {
   "cell_type": "code",
   "execution_count": null,
   "id": "9a412a45",
   "metadata": {},
   "outputs": [],
   "source": []
  },
  {
   "cell_type": "markdown",
   "id": "adbd1b67",
   "metadata": {},
   "source": [
    "### LINEAR REGRESSION ALGORITHM\n"
   ]
  },
  {
   "cell_type": "code",
   "execution_count": 52,
   "id": "4a5d5482",
   "metadata": {},
   "outputs": [],
   "source": [
    "y = LO_over [144]\n"
   ]
  },
  {
   "cell_type": "code",
   "execution_count": 53,
   "id": "f09530d6",
   "metadata": {},
   "outputs": [
    {
     "data": {
      "text/plain": [
       "(90721,)"
      ]
     },
     "execution_count": 53,
     "metadata": {},
     "output_type": "execute_result"
    }
   ],
   "source": [
    "y.shape\n"
   ]
  },
  {
   "cell_type": "code",
   "execution_count": 54,
   "id": "1d318c96",
   "metadata": {},
   "outputs": [],
   "source": [
    "# Drop the labels and store the features\n",
    "LO_over .drop(144,axis=1,inplace=True)\n",
    "X = LO_over \n"
   ]
  },
  {
   "cell_type": "code",
   "execution_count": 55,
   "id": "431a555a",
   "metadata": {},
   "outputs": [
    {
     "data": {
      "text/plain": [
       "array([[  0,   1,   2, ..., 141, 142, 143],\n",
       "       [170, 162, 161, ..., 127, 128, 130],\n",
       "       [ 93, 106, 104, ..., 158,  12,  13],\n",
       "       ...,\n",
       "       [126, 118, 110, ...,  58,  59,  89],\n",
       "       [128,  23,  26, ...,  98,  94, 114],\n",
       "       [140, 148, 148, ..., 171, 179, 177]])"
      ]
     },
     "execution_count": 55,
     "metadata": {},
     "output_type": "execute_result"
    }
   ],
   "source": [
    "# Generate feature matrix using a Numpy array\n",
    "X1 = np.array(X)\n",
    "X1\n"
   ]
  },
  {
   "cell_type": "code",
   "execution_count": 56,
   "id": "9aa5baf6",
   "metadata": {},
   "outputs": [
    {
     "data": {
      "text/plain": [
       "array([[  0, 170,  93, ..., 126, 128, 140],\n",
       "       [  1, 162, 106, ..., 118,  23, 148],\n",
       "       [  2, 161, 104, ..., 110,  26, 148],\n",
       "       ...,\n",
       "       [141, 127, 158, ...,  58,  98, 171],\n",
       "       [142, 128,  12, ...,  59,  94, 179],\n",
       "       [143, 130,  13, ...,  89, 114, 177]])"
      ]
     },
     "execution_count": 56,
     "metadata": {},
     "output_type": "execute_result"
    }
   ],
   "source": [
    "# Transpose of the feature matrix\n",
    "X2 = X1.transpose()\n",
    "X2\n"
   ]
  },
  {
   "cell_type": "code",
   "execution_count": 57,
   "id": "68afedfc",
   "metadata": {},
   "outputs": [
    {
     "data": {
      "text/plain": [
       "array([[1783674281, 1773270441, 1765132068, ..., 1647433793, 1641968185,\n",
       "        1636302945],\n",
       "       [1773270441, 1779709346, 1769375678, ..., 1649846528, 1644428019,\n",
       "        1639079355],\n",
       "       [1765132068, 1769375678, 1775949760, ..., 1652142298, 1646935896,\n",
       "        1641638381],\n",
       "       ...,\n",
       "       [1647433793, 1649846528, 1652142298, ..., 1734039968, 1724616376,\n",
       "        1717710356],\n",
       "       [1641968185, 1644428019, 1646935896, ..., 1724616376, 1732365698,\n",
       "        1723078783],\n",
       "       [1636302945, 1639079355, 1641638381, ..., 1717710356, 1723078783,\n",
       "        1730906015]])"
      ]
     },
     "execution_count": 57,
     "metadata": {},
     "output_type": "execute_result"
    }
   ],
   "source": [
    "# Square of the feature matrix\n",
    "XX = np.matmul(X2, X1)\n",
    "XX\n"
   ]
  },
  {
   "cell_type": "code",
   "execution_count": 58,
   "id": "bb34f5b4",
   "metadata": {},
   "outputs": [
    {
     "data": {
      "text/plain": [
       "(144, 144)"
      ]
     },
     "execution_count": 58,
     "metadata": {},
     "output_type": "execute_result"
    }
   ],
   "source": [
    "XX.shape\n"
   ]
  },
  {
   "cell_type": "code",
   "execution_count": 59,
   "id": "8056fafa",
   "metadata": {},
   "outputs": [],
   "source": [
    "# Inverse of the square of the feature matrix\n",
    "IX = inv(XX)\n"
   ]
  },
  {
   "cell_type": "code",
   "execution_count": 60,
   "id": "7193b413",
   "metadata": {},
   "outputs": [
    {
     "data": {
      "text/plain": [
       "(90721, 144)"
      ]
     },
     "execution_count": 60,
     "metadata": {},
     "output_type": "execute_result"
    }
   ],
   "source": [
    "# Multiply it with its feature matrix\n",
    "TX = np.matmul(X1, IX)\n",
    "TX.shape\n"
   ]
  },
  {
   "cell_type": "code",
   "execution_count": 61,
   "id": "0312577c",
   "metadata": {},
   "outputs": [
    {
     "name": "stdout",
     "output_type": "stream",
     "text": [
      "[[-3.79222664e-07 -1.34151538e-07 -1.17086192e-07 ...  1.27919343e-07\n",
      "   1.45607772e-07  3.91662902e-07]\n",
      " [ 7.44698596e-07 -5.21066377e-08  8.44289337e-07 ... -7.46188661e-07\n",
      "  -2.53560032e-08  8.66191195e-08]\n",
      " [ 3.14194651e-06  2.46044062e-06 -1.47991158e-06 ...  4.96005209e-06\n",
      "  -9.01463496e-06 -3.65631912e-07]\n",
      " ...\n",
      " [ 2.40994228e-07 -4.48320305e-09 -1.45182192e-07 ... -9.32147624e-07\n",
      "  -2.13300528e-06  8.97299805e-07]\n",
      " [ 4.56604317e-06 -5.67349473e-06 -1.47795743e-06 ...  2.53859695e-07\n",
      "  -1.49537733e-06  8.52613732e-07]\n",
      " [-2.42511727e-07  4.07358984e-07 -4.37342488e-07 ... -4.39419717e-07\n",
      "   4.50137284e-07  3.21820475e-08]]\n"
     ]
    }
   ],
   "source": [
    "print(TX)\n"
   ]
  },
  {
   "cell_type": "code",
   "execution_count": 62,
   "id": "f6a0d3b4",
   "metadata": {},
   "outputs": [
    {
     "data": {
      "text/plain": [
       "(90721,)"
      ]
     },
     "execution_count": 62,
     "metadata": {},
     "output_type": "execute_result"
    }
   ],
   "source": [
    "# Generate label matrix using Numpy array\n",
    "Y1 = np.array(y)\n",
    "Y1.shape\n"
   ]
  },
  {
   "cell_type": "code",
   "execution_count": 63,
   "id": "59915700",
   "metadata": {},
   "outputs": [],
   "source": [
    "# Transpose of the label matrix\n",
    "Y2 = Y1.transpose()\n"
   ]
  },
  {
   "cell_type": "code",
   "execution_count": 64,
   "id": "2785cd9b",
   "metadata": {},
   "outputs": [
    {
     "name": "stdout",
     "output_type": "stream",
     "text": [
      "[ 8.53568315e-04  2.27814985e-04  2.54695129e-04  2.39420464e-04\n",
      "  2.12609469e-04  1.73316316e-04  1.97921507e-04  1.64218574e-04\n",
      "  1.70673906e-04  1.80747447e-04  2.22270958e-04  8.69480586e-04\n",
      "  1.12334542e-04 -2.52092463e-04 -1.40360120e-04 -1.35612944e-04\n",
      " -1.36466772e-04 -1.09185107e-04 -1.03591908e-04 -1.30834652e-04\n",
      " -1.43176258e-04 -1.44201522e-04 -2.35358569e-04  1.23646006e-04\n",
      "  8.62728471e-05 -1.35344523e-04 -6.24906838e-05 -5.55340921e-05\n",
      " -3.81363856e-05 -2.63584044e-05 -5.12096727e-05 -7.70191707e-05\n",
      " -8.40142198e-05 -7.63712948e-05 -1.88115005e-04  1.41191815e-04\n",
      "  1.18498786e-04 -8.72139543e-05 -2.96331111e-05 -2.87254787e-05\n",
      " -1.16550495e-06 -5.43969458e-06 -2.17594612e-05 -3.76585691e-05\n",
      " -2.34141561e-05 -4.98705437e-05 -8.23594842e-05  1.39782474e-04\n",
      "  1.36815413e-04 -7.56625603e-05  1.25618719e-05  2.51575457e-05\n",
      "  2.18934919e-05  8.14843986e-06  1.50248153e-05  1.85403143e-05\n",
      "  5.53242123e-06 -2.02986750e-05 -5.78901856e-05  1.38527565e-04\n",
      "  1.03889407e-04 -1.13337570e-04 -4.02643359e-05 -1.46503302e-05\n",
      " -1.09928501e-05 -3.54433038e-05 -2.80020188e-05 -2.03940215e-05\n",
      " -3.53279814e-05 -1.58924945e-05 -1.16138749e-04  1.17661476e-04\n",
      "  1.12585977e-04 -1.04116492e-04 -6.78400260e-06 -5.48538852e-06\n",
      " -1.07582182e-06 -2.77622862e-05 -2.72247773e-05 -2.22301236e-05\n",
      " -3.36277981e-05 -4.28945019e-05 -1.04267023e-04  1.10321418e-04\n",
      "  9.41337469e-05 -7.63234817e-05 -3.80546461e-05  1.02379563e-05\n",
      "  1.28571785e-05 -1.01747712e-05 -1.84210312e-05 -1.25260188e-05\n",
      " -2.13241605e-05 -2.02907921e-05 -8.86936484e-05  9.22359414e-05\n",
      "  1.05561643e-04 -8.35465189e-05 -4.96542326e-05 -9.81092928e-06\n",
      " -3.21487294e-05 -2.93123062e-05 -1.03334254e-05 -2.19399648e-05\n",
      " -5.43060474e-05 -5.08965747e-05 -8.19992843e-05  9.15233890e-05\n",
      "  1.44276993e-04 -1.51847787e-04 -5.16274511e-05 -4.21715391e-05\n",
      " -5.09099721e-05 -3.76068006e-05 -1.54489978e-05 -3.79486382e-05\n",
      " -5.68717942e-05 -5.47596930e-05 -1.02262600e-04  1.00358937e-04\n",
      "  9.36394985e-05 -2.19442762e-04 -1.36791352e-04 -1.21342897e-04\n",
      " -1.17641250e-04 -1.02629573e-04 -1.05049924e-04 -1.35921484e-04\n",
      " -1.36046314e-04 -1.30415695e-04 -2.27233629e-04  1.26396741e-04\n",
      "  7.70907898e-04  2.33807193e-04  2.10663984e-04  2.29150711e-04\n",
      "  2.01787643e-04  1.98535995e-04  1.57020985e-04  1.72710496e-04\n",
      "  1.81805880e-04  2.14553662e-04  2.20088060e-04  8.43094325e-04]\n"
     ]
    }
   ],
   "source": [
    "# Multiply it with feature matrix related term\n",
    "A = np.matmul(Y2, TX)\n",
    "print(A)\n"
   ]
  },
  {
   "cell_type": "code",
   "execution_count": 65,
   "id": "857601d3",
   "metadata": {},
   "outputs": [],
   "source": [
    "# Validating the model - compare it with y[1:5]\n",
    "Z1 = np.matmul(X1[0,:], A)\n",
    "Z2 = np.matmul(X1[1,:], A)\n",
    "Z3 = np.matmul(X1[2,:], A)\n",
    "Z4 = np.matmul(X1[3,:], A)\n",
    "Z5 = np.matmul(X1[4,:], A)\n"
   ]
  },
  {
   "cell_type": "code",
   "execution_count": 66,
   "id": "67124778",
   "metadata": {},
   "outputs": [
    {
     "name": "stdout",
     "output_type": "stream",
     "text": [
      "0.23997885300367974\n"
     ]
    }
   ],
   "source": [
    "print(Z1)\n"
   ]
  },
  {
   "cell_type": "code",
   "execution_count": 67,
   "id": "05224bf9",
   "metadata": {},
   "outputs": [
    {
     "data": {
      "image/png": "[encoded data removed]",
      "text/plain": [
       "<Figure size 640x480 with 1 Axes>"
      ]
     },
     "metadata": {},
     "output_type": "display_data"
    }
   ],
   "source": [
    "# Plot the original data\n",
    "from mpl_toolkits.mplot3d import Axes3D\n",
    "ax = plt.axes(projection='3d')\n",
    "I1 = np.array(LO_over )\n",
    "#ax.scatter3D(I1[:,11], I1[:,32], I1[:,59])\n",
    "#ax.scatter3D(I1[:,11], I1[:,32], I1[:,59], c=I1[:,59], cmap='Greens')\n",
    "NN = 100\n",
    "ax.scatter3D(I1[1:NN,11], I1[1:NN,32], I1[1:NN,59], c=Y1[1:NN])\n",
    "plt.show()\n"
   ]
  },
  {
   "cell_type": "markdown",
   "id": "4b1e18fd",
   "metadata": {},
   "source": [
    "### ELASTIC-NET REGRESSION ALGORITHM"
   ]
  },
  {
   "cell_type": "code",
   "execution_count": 145,
   "id": "bedca50d",
   "metadata": {},
   "outputs": [
    {
     "name": "stdout",
     "output_type": "stream",
     "text": [
      "Our_Accuracy_Score: 0.5038759689922481\n",
      "Our_Precision_Score: 0.4696969696969697\n",
      "Our_Sensitivity_Score: 0.5166666666666666\n",
      "Our_Specificity_Score: 0.4927536231884058\n"
     ]
    },
    {
     "data": {
      "image/png": "[encoded data removed]",
      "text/plain": [
       "<Figure size 640x480 with 2 Axes>"
      ]
     },
     "metadata": {},
     "output_type": "display_data"
    }
   ],
   "source": [
    "import pandas as pd\n",
    "import numpy as np\n",
    "from numpy.linalg import inv\n",
    "import matplotlib.pyplot as plt\n",
    "from sklearn.metrics import confusion_matrix\n",
    "from sklearn.ensemble import RandomForestClassifier\n",
    "import seaborn as sns\n",
    "from sklearn import metrics\n",
    "from sklearn.metrics import classification_report\n",
    "\n",
    "input_data_train = pd.read_csv(\"/Users/bhuvanakorrapati/Desktop/output1/train_LOA_nonover.csv\",header=None)\n",
    "\n",
    "y = input_data_train[144]\n",
    "\n",
    "input_data_train.drop(144,axis=1,inplace=True)\n",
    "X = input_data_train\n",
    "\n",
    "X1 = np.array(X)\n",
    "X2 = X1.transpose()\n",
    "XX = np.matmul(X2, X1)\n",
    "\n",
    "IX = inv(XX)\n",
    "TX = np.matmul(X1, IX)\n",
    "\n",
    "Y1 = np.array(y)\n",
    "Y2 = Y1.transpose()\n",
    "\n",
    "A = np.matmul(Y2, TX)\n",
    "\n",
    "Œª=0.09\n",
    "h=np.sign(A) \n",
    "L1=(A-(Œª/2)*h)  \n",
    "LR=np.matmul(L1,IX)\n",
    "\n",
    "Z1 = np.matmul(X1, LR)\n",
    "\n",
    "input_data_1= pd.read_csv(\"/Users/bhuvanakorrapati/Desktop/output1/test_LOA_nonover.csv\",header=None)[1:]\n",
    "y_tt = input_data_1[144]\n",
    "\n",
    "input_data_1\n",
    "\n",
    "input_data_1.drop(144,axis=1,inplace=True)\n",
    "\n",
    "X_tt = input_data_1\n",
    "X_tt1=np.array(X_tt)\n",
    "Z1_test=np.matmul(X_tt1,LR)\n",
    "Z_mean=Z1_test>Z1_test.mean()\n",
    "\n",
    "a_int=np.multiply(Z_mean,1)\n",
    "predicted=pd.read_csv(\"/Users/bhuvanakorrapati/Desktop/output1/test_LOA_nonover.csv\",header=None)[1:]\n",
    "predicted[145]=a_int\n",
    "predicted.to_csv(\"/Users/bhuvanakorrapati/Desktop/output1/Lasso_10_predicted.csv\")\n",
    "CC_test = confusion_matrix(y_tt, a_int,labels=[0,1,2])\n",
    "\n",
    "predicted[144]\n",
    "\n",
    "type(predicted)\n",
    "\n",
    "sns.heatmap(CC_test, annot=True,fmt=\"d\")\n",
    "\n",
    "TN = CC_test[1,1]\n",
    "FP = CC_test[1,0]\n",
    "FN = CC_test[0,1]\n",
    "TP = CC_test[0,0]\n",
    "\n",
    "FPFN = FP+FN\n",
    "TPTN = TP+TN\n",
    "\n",
    "Accuracy = 1/(1+(FPFN/TPTN))\n",
    "print(\"Our_Accuracy_Score:\",Accuracy)\n",
    "Precision = 1/(1+(FP/TP))\n",
    "print(\"Our_Precision_Score:\",Precision)\n",
    "Sensitivity = 1/(1+(FN/TP))\n",
    "print(\"Our_Sensitivity_Score:\",Sensitivity)\n",
    "Specificity = 1/(1+(FP/TN))\n",
    "print(\"Our_Specificity_Score:\",Specificity)\n",
    "\n"
   ]
  },
  {
   "cell_type": "code",
   "execution_count": 148,
   "id": "c18ce8e3",
   "metadata": {},
   "outputs": [
    {
     "name": "stdout",
     "output_type": "stream",
     "text": [
      "[0 1 1 1 1 0 0 1 1 0 1 1 1 0 0 1 1 0 1 1 1 0 0 0 1 1 1 0 1 1 1 1 0 1 0 0 0\n",
      " 0 1 0 1 0 1 1 1 1 1 1 1 0 1 1 0 1 0 1 0 1 1 1 1 0 1 1 0 0 0 1 1 1 1 1 1 0\n",
      " 1 0 0 1 1 0 1 0 0 0 0 1 0 1 0 1 0 1 1 1 1 0 0 0 0 0 0 0 1 1 1 1 1 1 1 1 0\n",
      " 0 1 1 1 0 1 0 0 1 0 0 1 0 0 0 0 1 0 0 1 1 0 1 1 1 1 0 1 0 0 0 1 1 1 0 0 1\n",
      " 1 1 1 1 0 0 1 1 0 1 0 0 0 1 0 0 1 0 0 0 1 0 1 1 0 0 0 1 0 0 0 1 1 1 0 1 0\n",
      " 1 1 1 1 1 1 0 0 0 0 1 0 1 1 0 0 1 1 0 1 0 0 0 0 1 0]\n"
     ]
    }
   ],
   "source": [
    "print(a_int)"
   ]
  },
  {
   "cell_type": "code",
   "execution_count": 149,
   "id": "c44c72dd",
   "metadata": {},
   "outputs": [
    {
     "name": "stdout",
     "output_type": "stream",
     "text": [
      "[False  True  True  True  True False False  True  True False  True  True\n",
      "  True False False  True  True False  True  True  True False False False\n",
      "  True  True  True False  True  True  True  True False  True False False\n",
      " False False  True False  True False  True  True  True  True  True  True\n",
      "  True False  True  True False  True False  True False  True  True  True\n",
      "  True False  True  True False False False  True  True  True  True  True\n",
      "  True False  True False False  True  True False  True False False False\n",
      " False  True False  True False  True False  True  True  True  True False\n",
      " False False False False False False  True  True  True  True  True  True\n",
      "  True  True False False  True  True  True False  True False False  True\n",
      " False False  True False False False False  True False False  True  True\n",
      " False  True  True  True  True False  True False False False  True  True\n",
      "  True False False  True  True  True  True  True False False  True  True\n",
      " False  True False False False  True False False  True False False False\n",
      "  True False  True  True False False False  True False False False  True\n",
      "  True  True False  True False  True  True  True  True  True  True False\n",
      " False False False  True False  True  True False False  True  True False\n",
      "  True False False False False  True False]\n"
     ]
    }
   ],
   "source": [
    "print(Z_mean)"
   ]
  },
  {
   "cell_type": "code",
   "execution_count": 146,
   "id": "da6c5af6",
   "metadata": {},
   "outputs": [
    {
     "name": "stdout",
     "output_type": "stream",
     "text": [
      "[[31 29  0]\n",
      " [35 34  0]\n",
      " [31 51  0]]\n"
     ]
    }
   ],
   "source": [
    "print(CC_test)\n"
   ]
  },
  {
   "cell_type": "markdown",
   "id": "e8fdcaa2",
   "metadata": {},
   "source": [
    "### For two class non-overlapping dataset"
   ]
  },
  {
   "cell_type": "code",
   "execution_count": 68,
   "id": "8023483c",
   "metadata": {},
   "outputs": [
    {
     "name": "stdout",
     "output_type": "stream",
     "text": [
      "    0   1  2\n",
      "0  25  46  0\n",
      "1  39  30  0\n",
      "2   1   0  0\n",
      "Our_Accuracy_Score: 0.39285714285714285\n",
      "Our_Precision_Score: 0.39473684210526316\n",
      "Our_Sensitivity_Score: 0.4347826086956522\n",
      "Our_Specificity_Score: 0.35211267605633806\n"
     ]
    }
   ],
   "source": [
    "LO_Train_data= pd.read_csv('/Users/bhuvanakorrapati/Desktop/output1/train_LO_nonover.csv',header=None)[1:]\n",
    "LO_Test_data= pd.read_csv('/Users/bhuvanakorrapati/Desktop/output1/test_LO_nonover.csv',header=None)[1:]\n",
    "LO_Train_data[144][LO_Train_data[144]==2]=1\n",
    "train_ar = LO_Train_data[144]\n",
    "LO_Train_data.drop(144,axis=1,inplace=True)\n",
    "X_train = LO_Train_data\n",
    "l1=0.1\n",
    "l2=0.2\n",
    "LO_Test_data[144][LO_Test_data[144]==2]=1\n",
    "test_ar = LO_Test_data[144]\n",
    "LO_Test_data.drop(144,axis=1,inplace=True)\n",
    "X_test = LO_Test_data\n",
    "X1_test= np.array(X_test)\n",
    "X1_train = np.array(X_train) #X\n",
    "X2_train = X1_train.transpose() #X'\n",
    "XX_train = np.matmul(X2_train, X1_train) #X*X'\n",
    "Inv_X_train = inv(XX_train) #inv(X*X')\n",
    "#A1=y*X' *inv(X*X')\n",
    "Y_train = np.array(train_ar) #y\n",
    "YX_train = np.matmul(X2_train, Y_train) #Y*X'\n",
    "A1_train = np.matmul(YX_train, Inv_X_train)\n",
    "S_train= np.sign(A1_train)\n",
    "#A=(y*x’-(lamda2/2)*S)*inv(x*x’+lamda1)\n",
    "XXL1_train = XX_train+l1\n",
    "Inv_XXL1_train=inv(XXL1_train)\n",
    "Temp = (l2/2)*S_train\n",
    "New_temp = np.matmul(Temp,Inv_XXL1_train)\n",
    "A_train = YX_train - New_temp\n",
    "#Validating Model\n",
    "ZZ1 = np.matmul(X1_train, A_train)\n",
    "ZZ2 = ZZ1 > ZZ1.mean()\n",
    "yhat = ZZ2.astype(int)\n",
    "#Validating with Test data\n",
    "Z1_test = np.matmul(X1_test, A_train)\n",
    "Z2_test = Z1_test > Z1_test.mean()\n",
    "yhat_test = Z2_test.astype(int)\n",
    "New_LO_Test_data = pd.read_csv('/Users/bhuvanakorrapati/Desktop/output1/test_LO_nonover.csv',header=None)[1:]\n",
    "New_LO_Test_data[144][New_LO_Test_data[144]==2]=1\n",
    "New_LO_Test_data[\"145\"] = yhat_test\n",
    "New_LO_Test_data.to_csv('/Users/bhuvanakorrapati/Desktop/output1/new_train_LO_nonover.csv',index = False)\n",
    "#Confusion matrix\n",
    "CC_test = confusion_matrix(test_ar, yhat_test)\n",
    "#Confusion Matrix Array to Data Frame\n",
    "Confusion_Matrix = pd.DataFrame(CC_test)\n",
    "# save the dataframe as a csv file\n",
    "Confusion_Matrix.to_csv('/Users/bhuvanakorrapati/Desktop/output1/Confuison_Matrix.csv',index = False)\n",
    "\n",
    "print(Confusion_Matrix)\n",
    "TN = CC_test[0,0]\n",
    "FP = CC_test[0,1]\n",
    "FN = CC_test[1,0]\n",
    "TP = CC_test[1,1]\n",
    "FPFN = FP+FN\n",
    "TPTN = TP+TN\n",
    "Accuracy = 1/(1+(FPFN/TPTN))\n",
    "print(\"Our_Accuracy_Score:\",Accuracy)\n",
    "Precision = 1/(1+(FP/TP))\n",
    "print(\"Our_Precision_Score:\",Precision)\n",
    "Sensitivity = 1/(1+(FN/TP))\n",
    "print(\"Our_Sensitivity_Score:\",Sensitivity)\n",
    "Specificity = 1/(1+(FP/TN))\n",
    "print(\"Our_Specificity_Score:\",Specificity)\n"
   ]
  },
  {
   "cell_type": "code",
   "execution_count": 69,
   "id": "3932f1f0",
   "metadata": {},
   "outputs": [
    {
     "data": {
      "text/plain": [
       "<AxesSubplot:>"
      ]
     },
     "execution_count": 69,
     "metadata": {},
     "output_type": "execute_result"
    },
    {
     "data": {
      "image/png": "[encoded data removed]",
      "text/plain": [
       "<Figure size 640x480 with 2 Axes>"
      ]
     },
     "metadata": {},
     "output_type": "display_data"
    }
   ],
   "source": [
    "sns.heatmap(CC_test, annot=True)"
   ]
  },
  {
   "cell_type": "markdown",
   "id": "d4a74c70",
   "metadata": {},
   "source": [
    "### For two class overlapping"
   ]
  },
  {
   "cell_type": "code",
   "execution_count": 70,
   "id": "ae2f8071",
   "metadata": {},
   "outputs": [
    {
     "name": "stdout",
     "output_type": "stream",
     "text": [
      "      0     1\n",
      "0  4110  4840\n",
      "1  4647  4547\n",
      "Our_Accuracy_Score: 0.47712742504409167\n",
      "Our_Precision_Score: 0.48439330989666557\n",
      "Our_Sensitivity_Score: 0.49456167065477485\n",
      "Our_Specificity_Score: 0.4592178770949721\n"
     ]
    }
   ],
   "source": [
    "LO_overlap_Train_data= pd.read_csv('/Users/bhuvanakorrapati/Desktop/output1/train_LO_over.csv',header=None)[1:]\n",
    "LO_overlap_Test_data= pd.read_csv('/Users/bhuvanakorrapati/Desktop/output1/test_LO_over.csv',header=None)[1:]\n",
    "LO_overlap_Train_data[144][LO_overlap_Train_data[144]==2]=1\n",
    "train_ar = LO_overlap_Train_data[144]\n",
    "LO_overlap_Train_data.drop(144,axis=1,inplace=True)\n",
    "X_train = LO_overlap_Train_data\n",
    "l1=0.1\n",
    "l2=0.2\n",
    "LO_overlap_Test_data[144][LO_overlap_Test_data[144]==2]=1\n",
    "test_ar = LO_overlap_Test_data[144]\n",
    "LO_overlap_Test_data.drop(144,axis=1,inplace=True)\n",
    "X_test = LO_overlap_Test_data\n",
    "X1_test= np.array(X_test)\n",
    "X1_train = np.array(X_train) #X\n",
    "X2_train = X1_train.transpose() #X'\n",
    "XX_train = np.matmul(X2_train, X1_train) #X*X'\n",
    "Inv_X_train = inv(XX_train) #inv(X*X')\n",
    "#A1=y*X' *inv(X*X')\n",
    "Y_train = np.array(train_ar) #y\n",
    "YX_train = np.matmul(X2_train, Y_train) #Y*X'\n",
    "A1_train = np.matmul(YX_train, Inv_X_train)\n",
    "S_train= np.sign(A1_train)\n",
    "#A=(y*x’-(lamda2/2)*S)*inv(x*x’+lamda1)\n",
    "XXL1_train = XX_train+l1\n",
    "Inv_XXL1_train=inv(XXL1_train)\n",
    "Temp = (l2/2)*S_train\n",
    "New_temp = np.matmul(Temp,Inv_XXL1_train)\n",
    "A_train = YX_train - New_temp\n",
    "#Validating Model\n",
    "ZZ1 = np.matmul(X1_train, A_train)\n",
    "ZZ2 = ZZ1 > ZZ1.mean()\n",
    "yhat = ZZ2.astype(int)\n",
    "#Validating with Test data\n",
    "Z1_test = np.matmul(X1_test, A_train)\n",
    "Z2_test = Z1_test > Z1_test.mean()\n",
    "yhat_test = Z2_test.astype(int)\n",
    "New_LO_overlap_Test_data = pd.read_csv('/Users/bhuvanakorrapati/Desktop/output1/test_LO_over.csv',header=None)[1:]\n",
    "New_LO_overlap_Test_data[144][New_LO_overlap_Test_data[144]==2]=1\n",
    "New_LO_overlap_Test_data[\"145\"] = yhat_test\n",
    "New_LO_overlap_Test_data.to_csv('/Users/bhuvanakorrapati/Desktop/output1/new_train_LO_over.csv',index = False)\n",
    "#Confusion matrix\n",
    "CC_test = confusion_matrix(test_ar, yhat_test)\n",
    "#Confusion Matrix Array to Data Frame\n",
    "Confusion_Matrix = pd.DataFrame(CC_test)\n",
    "# save the dataframe as a csv file\n",
    "Confusion_Matrix.to_csv('/Users/bhuvanakorrapati/Desktop/output1/Confuison_Matrix.csv',index = False)\n",
    "\n",
    "print(Confusion_Matrix)\n",
    "TN = CC_test[0,0]\n",
    "FP = CC_test[0,1]\n",
    "FN = CC_test[1,0]\n",
    "TP = CC_test[1,1]\n",
    "FPFN = FP+FN\n",
    "TPTN = TP+TN\n",
    "Accuracy = 1/(1+(FPFN/TPTN))\n",
    "print(\"Our_Accuracy_Score:\",Accuracy)\n",
    "Precision = 1/(1+(FP/TP))\n",
    "print(\"Our_Precision_Score:\",Precision)\n",
    "Sensitivity = 1/(1+(FN/TP))\n",
    "print(\"Our_Sensitivity_Score:\",Sensitivity)\n",
    "Specificity = 1/(1+(FP/TN))\n",
    "print(\"Our_Specificity_Score:\",Specificity)\n",
    "\n"
   ]
  },
  {
   "cell_type": "code",
   "execution_count": 71,
   "id": "25c2e5c8",
   "metadata": {},
   "outputs": [
    {
     "data": {
      "text/plain": [
       "<AxesSubplot:>"
      ]
     },
     "execution_count": 71,
     "metadata": {},
     "output_type": "execute_result"
    },
    {
     "data": {
      "image/png": "[encoded data removed]",
      "text/plain": [
       "<Figure size 640x480 with 2 Axes>"
      ]
     },
     "metadata": {},
     "output_type": "display_data"
    }
   ],
   "source": [
    "sns.heatmap(CC_test, annot=True)"
   ]
  },
  {
   "cell_type": "markdown",
   "id": "78858e85",
   "metadata": {},
   "source": [
    "### For three class non overlapping"
   ]
  },
  {
   "cell_type": "code",
   "execution_count": 151,
   "id": "5c85d6e0",
   "metadata": {},
   "outputs": [
    {
     "name": "stdout",
     "output_type": "stream",
     "text": [
      "    0   1\n",
      "0  18  42\n",
      "1  79  72\n",
      "Our_Accuracy_Score: 0.42654028436018954\n",
      "Our_Precision_Score: 0.631578947368421\n",
      "Our_Sensitivity_Score: 0.4768211920529801\n",
      "Our_Specificity_Score: 0.3\n"
     ]
    }
   ],
   "source": [
    "LOA_Train_data= pd.read_csv('/Users/bhuvanakorrapati/Desktop/output1/train_LOA_nonover.csv',header=None)[1:]\n",
    "LOA_Test_data= pd.read_csv('/Users/bhuvanakorrapati/Desktop/output1/test_LOA_nonover.csv',header=None)[1:]\n",
    "LOA_Train_data[144][LOA_Train_data[144]==2]=1\n",
    "train_ar = LOA_Train_data[144]\n",
    "LOA_Train_data.drop(144,axis=1,inplace=True)\n",
    "X_train = LOA_Train_data\n",
    "l1=0.1\n",
    "l2=0.2\n",
    "LOA_Test_data[144][LOA_Test_data[144]==2]=1\n",
    "test_ar = LOA_Test_data[144]\n",
    "LOA_Test_data.drop(144,axis=1,inplace=True)\n",
    "X_test = LOA_Test_data\n",
    "X1_test= np.array(X_test)\n",
    "X1_train = np.array(X_train) #X\n",
    "X2_train = X1_train.transpose() #X'\n",
    "XX_train = np.matmul(X2_train, X1_train) #X*X'\n",
    "Inv_X_train = inv(XX_train) #inv(X*X')\n",
    "#A1=y*X' *inv(X*X')\n",
    "Y_train = np.array(train_ar) #y\n",
    "YX_train = np.matmul(X2_train, Y_train) #Y*X'\n",
    "A1_train = np.matmul(YX_train, Inv_X_train)\n",
    "S_train= np.sign(A1_train)\n",
    "#A=(y*x’-(lamda2/2)*S)*inv(x*x’+lamda1)\n",
    "XXL1_train = XX_train+l1\n",
    "Inv_XXL1_train=inv(XXL1_train)\n",
    "Temp = (l2/2)*S_train\n",
    "New_temp = np.matmul(Temp,Inv_XXL1_train)\n",
    "A_train = YX_train - New_temp\n",
    "#Validating Model\n",
    "ZZ1 = np.matmul(X1_train, A_train)\n",
    "ZZ2 = ZZ1 > ZZ1.mean()\n",
    "yhat = ZZ2.astype(int)\n",
    "#Validating with Test data\n",
    "Z1_test = np.matmul(X1_test, A_train)\n",
    "Z2_test = Z1_test > Z1_test.mean()\n",
    "yhat_test = Z2_test.astype(int)\n",
    "New_LOA_Test_data = pd.read_csv('/Users/bhuvanakorrapati/Desktop/output1/test_LOA_nonover.csv',header=None)[1:]\n",
    "New_LOA_Test_data[144][New_LOA_Test_data[144]==2]=1\n",
    "New_LOA_Test_data[\"145\"] = yhat_test\n",
    "New_LOA_Test_data.to_csv('/Users/bhuvanakorrapati/Desktop/output1/new_train_LOA_nonover.csv',index = False)\n",
    "#Confusion matrix\n",
    "CC_test = confusion_matrix(test_ar, yhat_test)\n",
    "#Confusion Matrix Array to Data Frame\n",
    "Confusion_Matrix = pd.DataFrame(CC_test)\n",
    "# save the dataframe as a csv file\n",
    "Confusion_Matrix.to_csv('/Users/bhuvanakorrapati/Desktop/output1/Confuison_Matrix.csv',index = False)\n",
    "\n",
    "print(Confusion_Matrix)\n",
    "TN = CC_test[0,0]\n",
    "FP = CC_test[0,1]\n",
    "FN = CC_test[1,0]\n",
    "TP = CC_test[1,1]\n",
    "FPFN = FP+FN\n",
    "TPTN = TP+TN\n",
    "Accuracy = 1/(1+(FPFN/TPTN))\n",
    "print(\"Our_Accuracy_Score:\",Accuracy)\n",
    "Precision = 1/(1+(FP/TP))\n",
    "print(\"Our_Precision_Score:\",Precision)\n",
    "Sensitivity = 1/(1+(FN/TP))\n",
    "print(\"Our_Sensitivity_Score:\",Sensitivity)\n",
    "Specificity = 1/(1+(FP/TN))\n",
    "print(\"Our_Specificity_Score:\",Specificity)\n",
    "\n"
   ]
  },
  {
   "cell_type": "code",
   "execution_count": 152,
   "id": "576b778b",
   "metadata": {},
   "outputs": [
    {
     "data": {
      "text/plain": [
       "<AxesSubplot:>"
      ]
     },
     "execution_count": 152,
     "metadata": {},
     "output_type": "execute_result"
    },
    {
     "data": {
      "image/png": "[encoded data removed]",
      "text/plain": [
       "<Figure size 640x480 with 2 Axes>"
      ]
     },
     "metadata": {},
     "output_type": "display_data"
    }
   ],
   "source": [
    "sns.heatmap(CC_test, annot=True)"
   ]
  },
  {
   "cell_type": "markdown",
   "id": "7b32122c",
   "metadata": {},
   "source": [
    "### For three class overlapping dataset"
   ]
  },
  {
   "cell_type": "code",
   "execution_count": 74,
   "id": "4daa728a",
   "metadata": {},
   "outputs": [
    {
     "name": "stdout",
     "output_type": "stream",
     "text": [
      "      0     1  2\n",
      "0  4188  4888  0\n",
      "1  4666  4401  0\n",
      "2     1     0  0\n",
      "Our_Accuracy_Score: 0.47340572121479363\n",
      "Our_Precision_Score: 0.4737861987296803\n",
      "Our_Sensitivity_Score: 0.485386566670343\n",
      "Our_Specificity_Score: 0.4614367562802997\n"
     ]
    }
   ],
   "source": [
    "LOA_overlap_Train_data= pd.read_csv('/Users/bhuvanakorrapati/Desktop/output1/train_LOA_over.csv',header=None)[1:]\n",
    "LOA_overlap_Test_data= pd.read_csv('/Users/bhuvanakorrapati/Desktop/output1/test_LOA_over.csv',header=None)[1:]\n",
    "LOA_overlap_Train_data[144][LOA_overlap_Train_data[144]==2]=1\n",
    "train_ar = LOA_overlap_Train_data[144]\n",
    "LOA_overlap_Train_data.drop(144,axis=1,inplace=True)\n",
    "X_train = LOA_overlap_Train_data\n",
    "l1=0.1\n",
    "l2=0.2\n",
    "LOA_overlap_Test_data[144][LOA_overlap_Test_data[144]==2]=1\n",
    "test_ar = LOA_overlap_Test_data[144]\n",
    "LOA_overlap_Test_data.drop(144,axis=1,inplace=True)\n",
    "X_test = LOA_overlap_Test_data\n",
    "X1_test= np.array(X_test)\n",
    "X1_train = np.array(X_train) #X\n",
    "X2_train = X1_train.transpose() #X'\n",
    "XX_train = np.matmul(X2_train, X1_train) #X*X'\n",
    "Inv_X_train = inv(XX_train) #inv(X*X')\n",
    "#A1=y*X' *inv(X*X')\n",
    "Y_train = np.array(train_ar) #y\n",
    "YX_train = np.matmul(X2_train, Y_train) #Y*X'\n",
    "A1_train = np.matmul(YX_train, Inv_X_train)\n",
    "S_train= np.sign(A1_train)\n",
    "#A=(y*x’-(lamda2/2)*S)*inv(x*x’+lamda1)\n",
    "XXL1_train = XX_train+l1\n",
    "Inv_XXL1_train=inv(XXL1_train)\n",
    "Temp = (l2/2)*S_train\n",
    "New_temp = np.matmul(Temp,Inv_XXL1_train)\n",
    "A_train = YX_train - New_temp\n",
    "#Validating Model\n",
    "ZZ1 = np.matmul(X1_train, A_train)\n",
    "ZZ2 = ZZ1 > ZZ1.mean()\n",
    "yhat = ZZ2.astype(int)\n",
    "#Validating with Test data\n",
    "Z1_test = np.matmul(X1_test, A_train)\n",
    "Z2_test = Z1_test > Z1_test.mean()\n",
    "yhat_test = Z2_test.astype(int)\n",
    "New_LOA_overlap_Test_data = pd.read_csv('/Users/bhuvanakorrapati/Desktop/output1/test_LOA_over.csv',header=None)[1:]\n",
    "New_LOA_overlap_Test_data[144][New_LOA_overlap_Test_data[144]==2]=1\n",
    "New_LOA_overlap_Test_data[\"145\"] = yhat_test\n",
    "New_LOA_overlap_Test_data.to_csv('/Users/bhuvanakorrapati/Desktop/output1/new_train_LOA_over.csv',index = False)\n",
    "#Confusion matrix\n",
    "CC_test = confusion_matrix(test_ar, yhat_test)\n",
    "#Confusion Matrix Array to Data Frame\n",
    "Confusion_Matrix = pd.DataFrame(CC_test)\n",
    "# save the dataframe as a csv file\n",
    "Confusion_Matrix.to_csv('/Users/bhuvanakorrapati/Desktop/output1/Confuison_Matrix.csv',index = False)\n",
    "\n",
    "print(Confusion_Matrix)\n",
    "TN = CC_test[0,0]\n",
    "FP = CC_test[0,1]\n",
    "FN = CC_test[1,0]\n",
    "TP = CC_test[1,1]\n",
    "FPFN = FP+FN\n",
    "TPTN = TP+TN\n",
    "Accuracy = 1/(1+(FPFN/TPTN))\n",
    "print(\"Our_Accuracy_Score:\",Accuracy)\n",
    "Precision = 1/(1+(FP/TP))\n",
    "print(\"Our_Precision_Score:\",Precision)\n",
    "Sensitivity = 1/(1+(FN/TP))\n",
    "print(\"Our_Sensitivity_Score:\",Sensitivity)\n",
    "Specificity = 1/(1+(FP/TN))\n",
    "print(\"Our_Specificity_Score:\",Specificity)\n",
    "\n"
   ]
  },
  {
   "cell_type": "code",
   "execution_count": 75,
   "id": "4b1ccd14",
   "metadata": {},
   "outputs": [
    {
     "data": {
      "text/plain": [
       "<AxesSubplot:>"
      ]
     },
     "execution_count": 75,
     "metadata": {},
     "output_type": "execute_result"
    },
    {
     "data": {
      "image/png": "[encoded data removed]",
      "text/plain": [
       "<Figure size 640x480 with 2 Axes>"
      ]
     },
     "metadata": {},
     "output_type": "display_data"
    }
   ],
   "source": [
    "sns.heatmap(CC_test, annot=True)"
   ]
  },
  {
   "cell_type": "code",
   "execution_count": null,
   "id": "3d31f94f",
   "metadata": {},
   "outputs": [],
   "source": []
  },
  {
   "cell_type": "code",
   "execution_count": null,
   "id": "5702ce8d",
   "metadata": {},
   "outputs": [],
   "source": []
  },
  {
   "cell_type": "code",
   "execution_count": null,
   "id": "a606283c",
   "metadata": {},
   "outputs": [],
   "source": []
  },
  {
   "cell_type": "code",
   "execution_count": null,
   "id": "88820b5f",
   "metadata": {},
   "outputs": [],
   "source": []
  },
  {
   "cell_type": "code",
   "execution_count": null,
   "id": "f5913084",
   "metadata": {},
   "outputs": [],
   "source": []
  },
  {
   "cell_type": "code",
   "execution_count": null,
   "id": "6f7a768e",
   "metadata": {},
   "outputs": [],
   "source": []
  },
  {
   "cell_type": "code",
   "execution_count": null,
   "id": "66588109",
   "metadata": {},
   "outputs": [],
   "source": []
  },
  {
   "cell_type": "code",
   "execution_count": null,
   "id": "ccaf5615",
   "metadata": {},
   "outputs": [],
   "source": []
  },
  {
   "cell_type": "code",
   "execution_count": null,
   "id": "1b1dceb2",
   "metadata": {},
   "outputs": [],
   "source": []
  },
  {
   "cell_type": "code",
   "execution_count": null,
   "id": "8091bddc",
   "metadata": {},
   "outputs": [],
   "source": []
  },
  {
   "cell_type": "markdown",
   "id": "cbebf44f",
   "metadata": {},
   "source": [
    "### RANDOM FOREST ALGORITHM\n"
   ]
  },
  {
   "cell_type": "code",
   "execution_count": null,
   "id": "329e36e7",
   "metadata": {},
   "outputs": [],
   "source": []
  },
  {
   "cell_type": "code",
   "execution_count": null,
   "id": "6cb3c32f",
   "metadata": {},
   "outputs": [],
   "source": []
  },
  {
   "cell_type": "code",
   "execution_count": null,
   "id": "c79efc58",
   "metadata": {},
   "outputs": [],
   "source": []
  },
  {
   "cell_type": "code",
   "execution_count": null,
   "id": "dfff520a",
   "metadata": {},
   "outputs": [],
   "source": []
  },
  {
   "cell_type": "code",
   "execution_count": 101,
   "id": "f206ee72",
   "metadata": {},
   "outputs": [],
   "source": [
    "RF_Train_data= pd.read_csv('/Users/bhuvanakorrapati/Desktop/output/merge_LO.csv',header=None)[1:]\n"
   ]
  },
  {
   "cell_type": "code",
   "execution_count": 102,
   "id": "db4bcf90",
   "metadata": {},
   "outputs": [],
   "source": [
    "X = RF_Train_data.iloc[:, 0:143].values\n",
    "y = RF_Train_data.iloc[:, 143].values"
   ]
  },
  {
   "cell_type": "code",
   "execution_count": 103,
   "id": "0590c627",
   "metadata": {},
   "outputs": [],
   "source": [
    "from sklearn.model_selection import train_test_split\n",
    "\n",
    "X_train, X_test, y_train, y_test = train_test_split(X, y, test_size = 0.33, random_state = 42)\n"
   ]
  },
  {
   "cell_type": "code",
   "execution_count": 125,
   "id": "3595318a",
   "metadata": {},
   "outputs": [
    {
     "name": "stdout",
     "output_type": "stream",
     "text": [
      "0.0425531914893617\n"
     ]
    }
   ],
   "source": [
    "from sklearn.ensemble import RandomForestClassifier\n",
    "\n",
    "\n",
    "\n",
    "# instantiate the classifier \n",
    "\n",
    "rfc = RandomForestClassifier(n_estimators=90, random_state=0)\n",
    "\n",
    "\n",
    "\n",
    "# fit the model\n",
    "\n",
    "rfc.fit(X_train, y_train)\n",
    "\n",
    "\n",
    "\n",
    "# Predict the Test set results\n",
    "\n",
    "y_pred = rfc.predict(X_test)\n",
    "\n",
    "\n",
    "\n",
    "# Check accuracy score \n",
    "\n",
    "from sklearn.metrics import accuracy_score, classification_report, confusion_matrix\n",
    "print(format(accuracy_score(y_test, y_pred)))\n"
   ]
  },
  {
   "cell_type": "code",
   "execution_count": null,
   "id": "329f864a",
   "metadata": {},
   "outputs": [],
   "source": []
  },
  {
   "cell_type": "code",
   "execution_count": null,
   "id": "3e5ab378",
   "metadata": {},
   "outputs": [],
   "source": []
  },
  {
   "cell_type": "code",
   "execution_count": 106,
   "id": "cb09860f",
   "metadata": {},
   "outputs": [],
   "source": [
    "from sklearn.metrics import classification_report, confusion_matrix, accuracy_score\n",
    "\n",
    "#print(confusion_matrix(y_test,y_pred))\n",
    "#print(classification_report(y_test,y_pred))\n",
    "#print(accuracy_score(y_test, y_pred))"
   ]
  },
  {
   "cell_type": "code",
   "execution_count": 107,
   "id": "36d595ad",
   "metadata": {},
   "outputs": [
    {
     "data": {
      "text/plain": [
       "array([205,  62, 135, 163,  44, 185, 115, 144,  56, 152,  45, 146,  86,\n",
       "       104, 183, 196, 159, 126, 105, 117, 170, 119, 169, 127, 200, 124,\n",
       "        88, 148, 156, 180, 219,  62, 111,  85, 150, 167, 197, 159,  88,\n",
       "       203, 157,  79, 114,  64, 104, 115, 178, 136, 118, 150,  84, 187,\n",
       "       191,  53,  67, 125, 150, 156, 146, 101,  94, 172, 176, 170, 120,\n",
       "       117, 187, 114, 127, 174, 158, 155, 180, 202, 159, 171, 119, 187,\n",
       "       144, 152, 170, 161, 180,  95,  46, 120, 179, 150, 141, 122, 190,\n",
       "       177, 137, 147,  89, 143, 111, 158, 168, 186, 130,  78, 166, 165,\n",
       "       119, 118, 113, 116, 112, 140, 115, 165, 109, 166, 108, 135, 125,\n",
       "       171, 123, 163, 184, 191, 159, 100, 165, 128,  15,  69, 157, 144,\n",
       "       158, 128,  73,  65, 204, 145, 140,  77, 211, 117, 110])"
      ]
     },
     "execution_count": 107,
     "metadata": {},
     "output_type": "execute_result"
    }
   ],
   "source": [
    "y_test"
   ]
  },
  {
   "cell_type": "code",
   "execution_count": 108,
   "id": "1e781fa5",
   "metadata": {},
   "outputs": [
    {
     "name": "stdout",
     "output_type": "stream",
     "text": [
      "[193  68 136 137  41 151 121 139  79 137 129 138  94  94 195 192 155 124\n",
      " 115 121 162 113 179 128 194  97  75 138 146 181 223  49  96  96 161 162\n",
      " 188 162  94 211 179  86 117  86  79  96 189 134 115 124  21 188 185  37\n",
      "  68 129 137 179 148  95  96 174 177 181 115 111 181 110 130 181 173 110\n",
      " 188 184 178 184 124 151 139 155 184 155 155  79  37  81 172 137 146 122\n",
      " 214 188 144 160  97 140  96 149 164 184 120  52 170 161 124 129  97 115\n",
      " 112 159  79 162 116 184  96 113 115 164 115  61 185 184  74  93 164 114\n",
      "  15 140 161 138 149 137  66  68 207 137 135  22 187 112 110]\n"
     ]
    }
   ],
   "source": [
    "print(y_pred)"
   ]
  },
  {
   "cell_type": "code",
   "execution_count": 109,
   "id": "00800160",
   "metadata": {},
   "outputs": [
    {
     "name": "stdout",
     "output_type": "stream",
     "text": [
      "Our_Accuracy_Score: 1.0\n",
      "Our_Precision_Score: 1.0\n",
      "Our_Sensitivity_Score: 1.0\n",
      "Our_Specificity_Score: nan\n"
     ]
    },
    {
     "name": "stderr",
     "output_type": "stream",
     "text": [
      "/var/folders/mr/z5vbd8j17q99ss77c6j4__2h0000gn/T/ipykernel_1904/2821044550.py:14: RuntimeWarning: invalid value encountered in long_scalars\n",
      "  Specificity = 1/(1+(FP/TN))\n"
     ]
    }
   ],
   "source": [
    "cm = confusion_matrix(y_test, y_pred)\n",
    "TN = cm[1,1]\n",
    "FP = cm[1,0]\n",
    "FN = cm[0,1]\n",
    "TP = cm[0,0]\n",
    "FPFN = FP+FN\n",
    "TPTN = TP+TN\n",
    "Accuracy = 1/(1+(FPFN/TPTN))\n",
    "print(\"Our_Accuracy_Score:\",Accuracy)\n",
    "Precision = 1/(1+(FP/TP))\n",
    "print(\"Our_Precision_Score:\",Precision)\n",
    "Sensitivity = 1/(1+(FN/TP))\n",
    "print(\"Our_Sensitivity_Score:\",Sensitivity)\n",
    "Specificity = 1/(1+(FP/TN))\n",
    "print(\"Our_Specificity_Score:\",Specificity)\n"
   ]
  },
  {
   "cell_type": "code",
   "execution_count": 110,
   "id": "9a820f7c",
   "metadata": {},
   "outputs": [
    {
     "data": {
      "text/plain": [
       "<AxesSubplot:>"
      ]
     },
     "execution_count": 110,
     "metadata": {},
     "output_type": "execute_result"
    },
    {
     "data": {
      "image/png": "[encoded data removed]",
      "text/plain": [
       "<Figure size 640x480 with 2 Axes>"
      ]
     },
     "metadata": {},
     "output_type": "display_data"
    }
   ],
   "source": []
  },
  {
   "cell_type": "code",
   "execution_count": null,
   "id": "a0da46d6",
   "metadata": {},
   "outputs": [],
   "source": []
  },
  {
   "cell_type": "code",
   "execution_count": 126,
   "id": "d964a726",
   "metadata": {},
   "outputs": [],
   "source": [
    "train_ar = RF_Train_data[144]\n",
    "RF_Train_data.drop(144,axis=1,inplace=True)\n",
    "X_train = RF_Train_data\n",
    "X1_train= np.array(X_train)\n",
    "Y_train = np.array(train_ar) #y\n"
   ]
  },
  {
   "cell_type": "code",
   "execution_count": 127,
   "id": "4226cbbc",
   "metadata": {},
   "outputs": [],
   "source": [
    "rF = RandomForestClassifier(random_state=0, n_estimators=500, oob_score=True, n_jobs=-1)\n",
    "model = rF.fit(X_train,Y_train)\n"
   ]
  },
  {
   "cell_type": "code",
   "execution_count": 128,
   "id": "4817cb7a",
   "metadata": {},
   "outputs": [
    {
     "data": {
      "text/plain": [
       "RandomForestClassifier(n_estimators=400, n_jobs=-1, random_state=0)"
      ]
     },
     "execution_count": 128,
     "metadata": {},
     "output_type": "execute_result"
    }
   ],
   "source": [
    "rF.set_params(n_estimators=400,\n",
    "                  bootstrap = True,\n",
    "                  warm_start=False, \n",
    "                  oob_score=False)"
   ]
  },
  {
   "cell_type": "code",
   "execution_count": 129,
   "id": "51cbef38",
   "metadata": {},
   "outputs": [
    {
     "data": {
      "text/plain": [
       "RandomForestClassifier(n_estimators=400, n_jobs=-1, random_state=0)"
      ]
     },
     "execution_count": 129,
     "metadata": {},
     "output_type": "execute_result"
    }
   ],
   "source": [
    "rF.fit(X_train,Y_train)"
   ]
  },
  {
   "cell_type": "code",
   "execution_count": 130,
   "id": "80215367",
   "metadata": {},
   "outputs": [
    {
     "ename": "NameError",
     "evalue": "name 'TR' is not defined",
     "output_type": "error",
     "traceback": [
      "\u001b[0;31m---------------------------------------------------------------------------\u001b[0m",
      "\u001b[0;31mNameError\u001b[0m                                 Traceback (most recent call last)",
      "\u001b[0;32m/var/folders/mr/z5vbd8j17q99ss77c6j4__2h0000gn/T/ipykernel_1904/586919217.py\u001b[0m in \u001b[0;36m<module>\u001b[0;34m\u001b[0m\n\u001b[0;32m----> 1\u001b[0;31m \u001b[0mX_test\u001b[0m \u001b[0;34m=\u001b[0m \u001b[0mX\u001b[0m\u001b[0;34m[\u001b[0m\u001b[0mTR\u001b[0m\u001b[0;34m:\u001b[0m\u001b[0mrow\u001b[0m\u001b[0;34m,\u001b[0m\u001b[0;34m:\u001b[0m\u001b[0;34m]\u001b[0m\u001b[0;34m\u001b[0m\u001b[0;34m\u001b[0m\u001b[0m\n\u001b[0m",
      "\u001b[0;31mNameError\u001b[0m: name 'TR' is not defined"
     ]
    }
   ],
   "source": [
    "X_test = X[TR:row,:]"
   ]
  },
  {
   "cell_type": "code",
   "execution_count": 131,
   "id": "b6f03dc0",
   "metadata": {},
   "outputs": [
    {
     "ename": "ValueError",
     "evalue": "X has 143 features, but RandomForestClassifier is expecting 144 features as input.",
     "output_type": "error",
     "traceback": [
      "\u001b[0;31m---------------------------------------------------------------------------\u001b[0m",
      "\u001b[0;31mValueError\u001b[0m                                Traceback (most recent call last)",
      "\u001b[0;32m/var/folders/mr/z5vbd8j17q99ss77c6j4__2h0000gn/T/ipykernel_1904/1819234258.py\u001b[0m in \u001b[0;36m<module>\u001b[0;34m\u001b[0m\n\u001b[0;32m----> 1\u001b[0;31m \u001b[0myhat_test\u001b[0m \u001b[0;34m=\u001b[0m \u001b[0mmodel\u001b[0m\u001b[0;34m.\u001b[0m\u001b[0mpredict\u001b[0m\u001b[0;34m(\u001b[0m\u001b[0mX_test\u001b[0m\u001b[0;34m)\u001b[0m\u001b[0;34m\u001b[0m\u001b[0;34m\u001b[0m\u001b[0m\n\u001b[0m",
      "\u001b[0;32m~/opt/anaconda3/lib/python3.9/site-packages/sklearn/ensemble/_forest.py\u001b[0m in \u001b[0;36mpredict\u001b[0;34m(self, X)\u001b[0m\n\u001b[1;32m    806\u001b[0m             \u001b[0mThe\u001b[0m \u001b[0mpredicted\u001b[0m \u001b[0mclasses\u001b[0m\u001b[0;34m.\u001b[0m\u001b[0;34m\u001b[0m\u001b[0;34m\u001b[0m\u001b[0m\n\u001b[1;32m    807\u001b[0m         \"\"\"\n\u001b[0;32m--> 808\u001b[0;31m         \u001b[0mproba\u001b[0m \u001b[0;34m=\u001b[0m \u001b[0mself\u001b[0m\u001b[0;34m.\u001b[0m\u001b[0mpredict_proba\u001b[0m\u001b[0;34m(\u001b[0m\u001b[0mX\u001b[0m\u001b[0;34m)\u001b[0m\u001b[0;34m\u001b[0m\u001b[0;34m\u001b[0m\u001b[0m\n\u001b[0m\u001b[1;32m    809\u001b[0m \u001b[0;34m\u001b[0m\u001b[0m\n\u001b[1;32m    810\u001b[0m         \u001b[0;32mif\u001b[0m \u001b[0mself\u001b[0m\u001b[0;34m.\u001b[0m\u001b[0mn_outputs_\u001b[0m \u001b[0;34m==\u001b[0m \u001b[0;36m1\u001b[0m\u001b[0;34m:\u001b[0m\u001b[0;34m\u001b[0m\u001b[0;34m\u001b[0m\u001b[0m\n",
      "\u001b[0;32m~/opt/anaconda3/lib/python3.9/site-packages/sklearn/ensemble/_forest.py\u001b[0m in \u001b[0;36mpredict_proba\u001b[0;34m(self, X)\u001b[0m\n\u001b[1;32m    848\u001b[0m         \u001b[0mcheck_is_fitted\u001b[0m\u001b[0;34m(\u001b[0m\u001b[0mself\u001b[0m\u001b[0;34m)\u001b[0m\u001b[0;34m\u001b[0m\u001b[0;34m\u001b[0m\u001b[0m\n\u001b[1;32m    849\u001b[0m         \u001b[0;31m# Check data\u001b[0m\u001b[0;34m\u001b[0m\u001b[0;34m\u001b[0m\u001b[0m\n\u001b[0;32m--> 850\u001b[0;31m         \u001b[0mX\u001b[0m \u001b[0;34m=\u001b[0m \u001b[0mself\u001b[0m\u001b[0;34m.\u001b[0m\u001b[0m_validate_X_predict\u001b[0m\u001b[0;34m(\u001b[0m\u001b[0mX\u001b[0m\u001b[0;34m)\u001b[0m\u001b[0;34m\u001b[0m\u001b[0;34m\u001b[0m\u001b[0m\n\u001b[0m\u001b[1;32m    851\u001b[0m \u001b[0;34m\u001b[0m\u001b[0m\n\u001b[1;32m    852\u001b[0m         \u001b[0;31m# Assign chunk of trees to jobs\u001b[0m\u001b[0;34m\u001b[0m\u001b[0;34m\u001b[0m\u001b[0m\n",
      "\u001b[0;32m~/opt/anaconda3/lib/python3.9/site-packages/sklearn/ensemble/_forest.py\u001b[0m in \u001b[0;36m_validate_X_predict\u001b[0;34m(self, X)\u001b[0m\n\u001b[1;32m    577\u001b[0m         Validate X whenever one tries to predict, apply, predict_proba.\"\"\"\n\u001b[1;32m    578\u001b[0m         \u001b[0mcheck_is_fitted\u001b[0m\u001b[0;34m(\u001b[0m\u001b[0mself\u001b[0m\u001b[0;34m)\u001b[0m\u001b[0;34m\u001b[0m\u001b[0;34m\u001b[0m\u001b[0m\n\u001b[0;32m--> 579\u001b[0;31m         \u001b[0mX\u001b[0m \u001b[0;34m=\u001b[0m \u001b[0mself\u001b[0m\u001b[0;34m.\u001b[0m\u001b[0m_validate_data\u001b[0m\u001b[0;34m(\u001b[0m\u001b[0mX\u001b[0m\u001b[0;34m,\u001b[0m \u001b[0mdtype\u001b[0m\u001b[0;34m=\u001b[0m\u001b[0mDTYPE\u001b[0m\u001b[0;34m,\u001b[0m \u001b[0maccept_sparse\u001b[0m\u001b[0;34m=\u001b[0m\u001b[0;34m\"csr\"\u001b[0m\u001b[0;34m,\u001b[0m \u001b[0mreset\u001b[0m\u001b[0;34m=\u001b[0m\u001b[0;32mFalse\u001b[0m\u001b[0;34m)\u001b[0m\u001b[0;34m\u001b[0m\u001b[0;34m\u001b[0m\u001b[0m\n\u001b[0m\u001b[1;32m    580\u001b[0m         \u001b[0;32mif\u001b[0m \u001b[0missparse\u001b[0m\u001b[0;34m(\u001b[0m\u001b[0mX\u001b[0m\u001b[0;34m)\u001b[0m \u001b[0;32mand\u001b[0m \u001b[0;34m(\u001b[0m\u001b[0mX\u001b[0m\u001b[0;34m.\u001b[0m\u001b[0mindices\u001b[0m\u001b[0;34m.\u001b[0m\u001b[0mdtype\u001b[0m \u001b[0;34m!=\u001b[0m \u001b[0mnp\u001b[0m\u001b[0;34m.\u001b[0m\u001b[0mintc\u001b[0m \u001b[0;32mor\u001b[0m \u001b[0mX\u001b[0m\u001b[0;34m.\u001b[0m\u001b[0mindptr\u001b[0m\u001b[0;34m.\u001b[0m\u001b[0mdtype\u001b[0m \u001b[0;34m!=\u001b[0m \u001b[0mnp\u001b[0m\u001b[0;34m.\u001b[0m\u001b[0mintc\u001b[0m\u001b[0;34m)\u001b[0m\u001b[0;34m:\u001b[0m\u001b[0;34m\u001b[0m\u001b[0;34m\u001b[0m\u001b[0m\n\u001b[1;32m    581\u001b[0m             \u001b[0;32mraise\u001b[0m \u001b[0mValueError\u001b[0m\u001b[0;34m(\u001b[0m\u001b[0;34m\"No support for np.int64 index based sparse matrices\"\u001b[0m\u001b[0;34m)\u001b[0m\u001b[0;34m\u001b[0m\u001b[0;34m\u001b[0m\u001b[0m\n",
      "\u001b[0;32m~/opt/anaconda3/lib/python3.9/site-packages/sklearn/base.py\u001b[0m in \u001b[0;36m_validate_data\u001b[0;34m(self, X, y, reset, validate_separately, **check_params)\u001b[0m\n\u001b[1;32m    583\u001b[0m \u001b[0;34m\u001b[0m\u001b[0m\n\u001b[1;32m    584\u001b[0m         \u001b[0;32mif\u001b[0m \u001b[0;32mnot\u001b[0m \u001b[0mno_val_X\u001b[0m \u001b[0;32mand\u001b[0m \u001b[0mcheck_params\u001b[0m\u001b[0;34m.\u001b[0m\u001b[0mget\u001b[0m\u001b[0;34m(\u001b[0m\u001b[0;34m\"ensure_2d\"\u001b[0m\u001b[0;34m,\u001b[0m \u001b[0;32mTrue\u001b[0m\u001b[0;34m)\u001b[0m\u001b[0;34m:\u001b[0m\u001b[0;34m\u001b[0m\u001b[0;34m\u001b[0m\u001b[0m\n\u001b[0;32m--> 585\u001b[0;31m             \u001b[0mself\u001b[0m\u001b[0;34m.\u001b[0m\u001b[0m_check_n_features\u001b[0m\u001b[0;34m(\u001b[0m\u001b[0mX\u001b[0m\u001b[0;34m,\u001b[0m \u001b[0mreset\u001b[0m\u001b[0;34m=\u001b[0m\u001b[0mreset\u001b[0m\u001b[0;34m)\u001b[0m\u001b[0;34m\u001b[0m\u001b[0;34m\u001b[0m\u001b[0m\n\u001b[0m\u001b[1;32m    586\u001b[0m \u001b[0;34m\u001b[0m\u001b[0m\n\u001b[1;32m    587\u001b[0m         \u001b[0;32mreturn\u001b[0m \u001b[0mout\u001b[0m\u001b[0;34m\u001b[0m\u001b[0;34m\u001b[0m\u001b[0m\n",
      "\u001b[0;32m~/opt/anaconda3/lib/python3.9/site-packages/sklearn/base.py\u001b[0m in \u001b[0;36m_check_n_features\u001b[0;34m(self, X, reset)\u001b[0m\n\u001b[1;32m    398\u001b[0m \u001b[0;34m\u001b[0m\u001b[0m\n\u001b[1;32m    399\u001b[0m         \u001b[0;32mif\u001b[0m \u001b[0mn_features\u001b[0m \u001b[0;34m!=\u001b[0m \u001b[0mself\u001b[0m\u001b[0;34m.\u001b[0m\u001b[0mn_features_in_\u001b[0m\u001b[0;34m:\u001b[0m\u001b[0;34m\u001b[0m\u001b[0;34m\u001b[0m\u001b[0m\n\u001b[0;32m--> 400\u001b[0;31m             raise ValueError(\n\u001b[0m\u001b[1;32m    401\u001b[0m                 \u001b[0;34mf\"X has {n_features} features, but {self.__class__.__name__} \"\u001b[0m\u001b[0;34m\u001b[0m\u001b[0;34m\u001b[0m\u001b[0m\n\u001b[1;32m    402\u001b[0m                 \u001b[0;34mf\"is expecting {self.n_features_in_} features as input.\"\u001b[0m\u001b[0;34m\u001b[0m\u001b[0;34m\u001b[0m\u001b[0m\n",
      "\u001b[0;31mValueError\u001b[0m: X has 143 features, but RandomForestClassifier is expecting 144 features as input."
     ]
    }
   ],
   "source": [
    "yhat_test = model.predict(X_test)"
   ]
  },
  {
   "cell_type": "code",
   "execution_count": null,
   "id": "41b2278e",
   "metadata": {},
   "outputs": [],
   "source": []
  },
  {
   "cell_type": "code",
   "execution_count": 139,
   "id": "e536f15a",
   "metadata": {},
   "outputs": [
    {
     "name": "stdout",
     "output_type": "stream",
     "text": [
      "1. feature 135 (0.017115)\n",
      "2. feature 138 (0.016353)\n",
      "3. feature 7 (0.013638)\n",
      "4. feature 4 (0.013421)\n",
      "5. feature 0 (0.012266)\n",
      "6. feature 2 (0.011906)\n",
      "7. feature 126 (0.011630)\n",
      "8. feature 14 (0.011350)\n",
      "9. feature 131 (0.010808)\n",
      "10. feature 140 (0.010630)\n",
      "11. feature 58 (0.010382)\n",
      "12. feature 5 (0.010338)\n",
      "13. feature 8 (0.010024)\n",
      "14. feature 109 (0.009870)\n",
      "15. feature 136 (0.009743)\n",
      "16. feature 35 (0.009632)\n",
      "17. feature 137 (0.009558)\n",
      "18. feature 23 (0.009422)\n",
      "19. feature 21 (0.009414)\n",
      "20. feature 130 (0.009368)\n",
      "21. feature 119 (0.009274)\n",
      "22. feature 71 (0.009099)\n",
      "23. feature 132 (0.009075)\n",
      "24. feature 1 (0.009058)\n",
      "25. feature 127 (0.009031)\n",
      "26. feature 3 (0.008608)\n",
      "27. feature 120 (0.008580)\n",
      "28. feature 133 (0.008547)\n",
      "29. feature 70 (0.008516)\n",
      "30. feature 24 (0.008496)\n",
      "31. feature 142 (0.008492)\n",
      "32. feature 38 (0.008453)\n",
      "33. feature 143 (0.008240)\n",
      "34. feature 86 (0.008229)\n",
      "35. feature 40 (0.008164)\n",
      "36. feature 114 (0.008069)\n",
      "37. feature 134 (0.008052)\n",
      "38. feature 12 (0.007865)\n",
      "39. feature 60 (0.007765)\n",
      "40. feature 11 (0.007746)\n",
      "41. feature 121 (0.007715)\n",
      "42. feature 128 (0.007676)\n",
      "43. feature 94 (0.007581)\n",
      "44. feature 115 (0.007581)\n",
      "45. feature 19 (0.007476)\n",
      "46. feature 20 (0.007464)\n",
      "47. feature 29 (0.007432)\n",
      "48. feature 104 (0.007403)\n",
      "49. feature 141 (0.007259)\n",
      "50. feature 16 (0.007211)\n",
      "51. feature 9 (0.007200)\n",
      "52. feature 62 (0.007167)\n",
      "53. feature 72 (0.007084)\n",
      "54. feature 123 (0.007079)\n",
      "55. feature 47 (0.006982)\n",
      "56. feature 51 (0.006891)\n",
      "57. feature 34 (0.006871)\n",
      "58. feature 10 (0.006833)\n",
      "59. feature 139 (0.006794)\n",
      "60. feature 124 (0.006734)\n",
      "61. feature 15 (0.006726)\n",
      "62. feature 57 (0.006718)\n",
      "63. feature 116 (0.006697)\n",
      "64. feature 75 (0.006695)\n",
      "65. feature 113 (0.006692)\n",
      "66. feature 118 (0.006683)\n",
      "67. feature 122 (0.006651)\n",
      "68. feature 102 (0.006578)\n",
      "69. feature 98 (0.006575)\n",
      "70. feature 27 (0.006561)\n",
      "71. feature 108 (0.006483)\n",
      "72. feature 107 (0.006426)\n",
      "73. feature 13 (0.006424)\n",
      "74. feature 125 (0.006415)\n",
      "75. feature 129 (0.006388)\n",
      "76. feature 17 (0.006387)\n",
      "77. feature 25 (0.006383)\n",
      "78. feature 26 (0.006310)\n",
      "79. feature 22 (0.006297)\n",
      "80. feature 83 (0.006296)\n",
      "81. feature 103 (0.006283)\n",
      "82. feature 87 (0.006210)\n",
      "83. feature 37 (0.006102)\n",
      "84. feature 39 (0.006090)\n",
      "85. feature 46 (0.006051)\n",
      "86. feature 117 (0.006010)\n",
      "87. feature 61 (0.006005)\n",
      "88. feature 85 (0.006000)\n",
      "89. feature 82 (0.005994)\n",
      "90. feature 91 (0.005920)\n",
      "91. feature 36 (0.005895)\n",
      "92. feature 89 (0.005888)\n",
      "93. feature 59 (0.005811)\n",
      "94. feature 100 (0.005752)\n",
      "95. feature 49 (0.005706)\n",
      "96. feature 110 (0.005703)\n",
      "97. feature 96 (0.005659)\n",
      "98. feature 32 (0.005633)\n",
      "99. feature 90 (0.005571)\n",
      "100. feature 43 (0.005519)\n",
      "101. feature 69 (0.005453)\n",
      "102. feature 52 (0.005423)\n",
      "103. feature 76 (0.005420)\n",
      "104. feature 111 (0.005420)\n",
      "105. feature 88 (0.005345)\n",
      "106. feature 33 (0.005343)\n",
      "107. feature 106 (0.005287)\n",
      "108. feature 63 (0.005244)\n",
      "109. feature 55 (0.005229)\n",
      "110. feature 68 (0.005223)\n",
      "111. feature 28 (0.005161)\n",
      "112. feature 74 (0.005151)\n",
      "113. feature 54 (0.005147)\n",
      "114. feature 30 (0.005141)\n",
      "115. feature 79 (0.005115)\n",
      "116. feature 97 (0.005046)\n",
      "117. feature 31 (0.005039)\n",
      "118. feature 84 (0.005037)\n",
      "119. feature 105 (0.005000)\n",
      "120. feature 95 (0.004979)\n",
      "121. feature 80 (0.004810)\n",
      "122. feature 50 (0.004789)\n",
      "123. feature 73 (0.004766)\n",
      "124. feature 66 (0.004727)\n",
      "125. feature 112 (0.004723)\n",
      "126. feature 65 (0.004721)\n",
      "127. feature 6 (0.004721)\n",
      "128. feature 93 (0.004714)\n",
      "129. feature 53 (0.004689)\n",
      "130. feature 78 (0.004684)\n",
      "131. feature 45 (0.004657)\n",
      "132. feature 48 (0.004649)\n",
      "133. feature 67 (0.004601)\n",
      "134. feature 81 (0.004576)\n",
      "135. feature 18 (0.004568)\n",
      "136. feature 92 (0.004543)\n",
      "137. feature 56 (0.004498)\n",
      "138. feature 77 (0.004471)\n",
      "139. feature 41 (0.004286)\n",
      "140. feature 64 (0.004079)\n",
      "141. feature 44 (0.004055)\n",
      "142. feature 101 (0.003918)\n",
      "143. feature 99 (0.003760)\n",
      "144. feature 42 (0.002944)\n"
     ]
    }
   ],
   "source": [
    "importance = model.feature_importances_\n",
    "indices = importance.argsort()[::-1]\n",
    "std = np.std([model.feature_importances_ for model in rF.estimators_], axis=0)\n",
    "for f in range(X_train.shape[1]):\n",
    "    print(\"%d. feature %d (%f)\" % (f + 1, indices[f], importance[indices[f]]))\n"
   ]
  },
  {
   "cell_type": "code",
   "execution_count": null,
   "id": "3219db2e",
   "metadata": {},
   "outputs": [],
   "source": []
  }
 ],
 "metadata": {
  "kernelspec": {
   "display_name": "Python 3 (ipykernel)",
   "language": "python",
   "name": "python3"
  },
  "language_info": {
   "codemirror_mode": {
    "name": "ipython",
    "version": 3
   },
   "file_extension": ".py",
   "mimetype": "text/x-python",
   "name": "python",
   "nbconvert_exporter": "python",
   "pygments_lexer": "ipython3",
   "version": "3.9.13"
  }
 },
 "nbformat": 4,
 "nbformat_minor": 5
}
