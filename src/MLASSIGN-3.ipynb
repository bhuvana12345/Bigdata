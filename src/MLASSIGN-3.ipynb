{
 "cells": [
  {
   "cell_type": "code",
   "execution_count": 1,
   "id": "e89665b5",
   "metadata": {},
   "outputs": [],
   "source": [
    "import pandas as pd\n",
    "import numpy as np\n",
    "import seaborn as sns\n",
    "import random\n",
    "from sklearn.decomposition import PCA\n",
    "from numpy.linalg import inv\n",
    "import matplotlib.pyplot as plt\n",
    "from sklearn.metrics import confusion_matrix\n",
    "from sklearn.ensemble import RandomForestClassifier\n",
    "from sklearn.metrics import plot_confusion_matrix"
   ]
  },
  {
   "cell_type": "code",
   "execution_count": 2,
   "id": "5a30596e",
   "metadata": {},
   "outputs": [],
   "source": [
    "# Read a feature space\n",
    "LO_nonover = pd.read_csv('/Users/bhuvanakorrapati/Desktop/output/merge_LO.csv',header=None)\n",
    "\n",
    "LO_over = pd.read_csv('/Users/bhuvanakorrapati/Desktop/output/overlapping_merge_LO.csv',header=None)\n",
    "\n",
    "LOA_nonover = pd.read_csv('/Users/bhuvanakorrapati/Desktop/output/merge_LOA.csv',header=None)\n",
    "\n",
    "LOA_over = pd.read_csv('/Users/bhuvanakorrapati/Desktop/output/overlapping_merge_LOA.csv',header=None)\n",
    "\n",
    "\n"
   ]
  },
  {
   "cell_type": "code",
   "execution_count": 5,
   "id": "219dc96d",
   "metadata": {},
   "outputs": [],
   "source": [
    "LO_nonover = pd.read_csv(\"/Users/bhuvanakorrapati/Desktop/output/merge_LO.csv\",header=None) \n",
    "data = np.array(LO_nonover)\n",
    "row, col = data.shape\n",
    "dm = 6 # Try different dimensions\n",
    "pca1 = PCA(n_components=dm)\n",
    "score1 = pca1.fit_transform(data[:,0:144]) #col-1\n",
    "scores1 = pd.DataFrame(score1)\n",
    "y1 = data[144] #Label column\n",
    "y1d = pd.DataFrame(y1)\n",
    "sc1 = pd.concat((y1d,scores1),axis=1)"
   ]
  },
  {
   "cell_type": "code",
   "execution_count": 6,
   "id": "8087cab6",
   "metadata": {},
   "outputs": [
    {
     "name": "stdout",
     "output_type": "stream",
     "text": [
      "       0           0           1           2           3           4  \\\n",
      "0    144  770.525345  500.444855   61.359360  -15.259490  -39.296639   \n",
      "1      0   23.353442  -98.969612 -298.669217  -78.932397   24.179354   \n",
      "2      0 -733.242843  -12.401836  -93.616044  -15.709480   53.633949   \n",
      "3      0  588.258197  -63.855172  -34.432402  -19.469043  -42.893075   \n",
      "4      0  -46.962528  196.752499 -190.992306  123.412535  110.880470   \n",
      "..   ...         ...         ...         ...         ...         ...   \n",
      "700    1 -277.012605  246.986770  -29.768267  -61.988710  -40.430120   \n",
      "701    1  965.832637   33.020404 -140.258727  -14.622731  -37.888146   \n",
      "702    0  358.057896  -33.780284    0.406310   81.218289   55.999981   \n",
      "703    1   18.100320  -62.192908   50.717406  -19.844823    9.117492   \n",
      "704    1  556.970823  215.462362  -86.387945  -63.680385  -91.175545   \n",
      "\n",
      "              5  \n",
      "0     13.722459  \n",
      "1    -24.413884  \n",
      "2     26.971307  \n",
      "3     -3.437525  \n",
      "4     15.145317  \n",
      "..          ...  \n",
      "700  123.788498  \n",
      "701   26.579852  \n",
      "702   58.230863  \n",
      "703    0.728500  \n",
      "704   24.260090  \n",
      "\n",
      "[705 rows x 7 columns]\n"
     ]
    }
   ],
   "source": [
    "print(sc1)"
   ]
  },
  {
   "cell_type": "code",
   "execution_count": 7,
   "id": "9b98154b",
   "metadata": {},
   "outputs": [],
   "source": [
    "sc1.to_csv('/Users/bhuvanakorrapati/Desktop/output2/sc1.csv', index=False)"
   ]
  },
  {
   "cell_type": "code",
   "execution_count": 74,
   "id": "3b5ee7a0",
   "metadata": {},
   "outputs": [],
   "source": [
    "LO_over = pd.read_csv(\"/Users/bhuvanakorrapati/Desktop/output/overlapping_merge_LO.csv\",header=None) \n",
    "data = np.array(LO_over)\n",
    "row, col = data.shape\n",
    "dm = 6 # Try different dimensions\n",
    "pca2 = PCA(n_components=dm)\n",
    "score2 = pca2.fit_transform(data[:,0:144]) #col-1\n",
    "scores2 = pd.DataFrame(score2)\n",
    "y2 = data[144] #Label column\n",
    "y2d = pd.DataFrame(y2)\n",
    "sc2 = pd.concat([scores2.reset_index(drop=True),y2d.reset_index(drop=True)], axis=1)"
   ]
  },
  {
   "cell_type": "code",
   "execution_count": null,
   "id": "d85c8290",
   "metadata": {},
   "outputs": [],
   "source": []
  },
  {
   "cell_type": "code",
   "execution_count": 77,
   "id": "a22c669c",
   "metadata": {},
   "outputs": [
    {
     "name": "stdout",
     "output_type": "stream",
     "text": [
      "                0           1           2           3           4           5  \\\n",
      "0      696.921467  499.555015  -13.904621   -3.494053   28.466330   -0.477707   \n",
      "1     -174.909808  113.594670  163.577642   48.378785   68.875404  152.470208   \n",
      "2       70.423278   -7.949985  -16.245615   84.279437  217.504396   14.096752   \n",
      "3      641.389454   80.341310  134.401066  117.348569  -60.321542   40.630152   \n",
      "4      264.264411   88.740682   63.400867  -14.437509  -70.706729 -129.924242   \n",
      "...           ...         ...         ...         ...         ...         ...   \n",
      "90716 -231.558105   17.907572  562.753610  105.065532  222.236602 -183.095293   \n",
      "90717 -537.858364 -119.462810 -102.682449    6.277181   15.937431  -20.376796   \n",
      "90718  380.785792  -89.944632   53.479464  -75.065192  -73.422099   78.341741   \n",
      "90719  668.727712   17.316856 -198.818535   17.381407  -49.466205    3.040987   \n",
      "90720 -455.169877  -35.622336 -216.129733  -25.472304   -0.608925  -13.627558   \n",
      "\n",
      "           0  \n",
      "0      159.0  \n",
      "1      157.0  \n",
      "2      168.0  \n",
      "3      149.0  \n",
      "4      156.0  \n",
      "...      ...  \n",
      "90716    NaN  \n",
      "90717    NaN  \n",
      "90718    NaN  \n",
      "90719    NaN  \n",
      "90720    NaN  \n",
      "\n",
      "[90721 rows x 7 columns]\n"
     ]
    }
   ],
   "source": [
    "print(sc2)"
   ]
  },
  {
   "cell_type": "code",
   "execution_count": 50,
   "id": "9e2e4b09",
   "metadata": {},
   "outputs": [],
   "source": [
    "sc2.to_csv('/Users/bhuvanakorrapati/Desktop/output2/sc2.csv', index=False)"
   ]
  },
  {
   "cell_type": "code",
   "execution_count": 51,
   "id": "feb5783f",
   "metadata": {},
   "outputs": [
    {
     "data": {
      "text/html": [
       "<div>\n",
       "<style scoped>\n",
       "    .dataframe tbody tr th:only-of-type {\n",
       "        vertical-align: middle;\n",
       "    }\n",
       "\n",
       "    .dataframe tbody tr th {\n",
       "        vertical-align: top;\n",
       "    }\n",
       "\n",
       "    .dataframe thead th {\n",
       "        text-align: right;\n",
       "    }\n",
       "</style>\n",
       "<table border=\"1\" class=\"dataframe\">\n",
       "  <thead>\n",
       "    <tr style=\"text-align: right;\">\n",
       "      <th></th>\n",
       "      <th>0</th>\n",
       "      <th>0</th>\n",
       "      <th>1</th>\n",
       "      <th>2</th>\n",
       "      <th>3</th>\n",
       "      <th>4</th>\n",
       "      <th>5</th>\n",
       "    </tr>\n",
       "  </thead>\n",
       "  <tbody>\n",
       "    <tr>\n",
       "      <th>0</th>\n",
       "      <td>144</td>\n",
       "      <td>760.203243</td>\n",
       "      <td>329.952094</td>\n",
       "      <td>376.440237</td>\n",
       "      <td>2.302988</td>\n",
       "      <td>-34.904379</td>\n",
       "      <td>-17.404857</td>\n",
       "    </tr>\n",
       "    <tr>\n",
       "      <th>1</th>\n",
       "      <td>2</td>\n",
       "      <td>957.168539</td>\n",
       "      <td>-67.376376</td>\n",
       "      <td>-82.316641</td>\n",
       "      <td>-41.939012</td>\n",
       "      <td>-20.483594</td>\n",
       "      <td>14.209076</td>\n",
       "    </tr>\n",
       "    <tr>\n",
       "      <th>2</th>\n",
       "      <td>0</td>\n",
       "      <td>203.148572</td>\n",
       "      <td>188.326208</td>\n",
       "      <td>-127.054260</td>\n",
       "      <td>-208.968904</td>\n",
       "      <td>103.578118</td>\n",
       "      <td>-87.610345</td>\n",
       "    </tr>\n",
       "    <tr>\n",
       "      <th>3</th>\n",
       "      <td>2</td>\n",
       "      <td>-789.322475</td>\n",
       "      <td>-10.492422</td>\n",
       "      <td>61.139680</td>\n",
       "      <td>27.412317</td>\n",
       "      <td>-10.285332</td>\n",
       "      <td>27.414280</td>\n",
       "    </tr>\n",
       "    <tr>\n",
       "      <th>4</th>\n",
       "      <td>1</td>\n",
       "      <td>566.171305</td>\n",
       "      <td>-276.403619</td>\n",
       "      <td>70.545464</td>\n",
       "      <td>99.131772</td>\n",
       "      <td>135.220145</td>\n",
       "      <td>-86.714053</td>\n",
       "    </tr>\n",
       "    <tr>\n",
       "      <th>...</th>\n",
       "      <td>...</td>\n",
       "      <td>...</td>\n",
       "      <td>...</td>\n",
       "      <td>...</td>\n",
       "      <td>...</td>\n",
       "      <td>...</td>\n",
       "      <td>...</td>\n",
       "    </tr>\n",
       "    <tr>\n",
       "      <th>1052</th>\n",
       "      <td>0</td>\n",
       "      <td>419.862432</td>\n",
       "      <td>235.864167</td>\n",
       "      <td>-181.490748</td>\n",
       "      <td>-142.883733</td>\n",
       "      <td>62.967002</td>\n",
       "      <td>-57.966901</td>\n",
       "    </tr>\n",
       "    <tr>\n",
       "      <th>1053</th>\n",
       "      <td>1</td>\n",
       "      <td>146.227522</td>\n",
       "      <td>-38.413987</td>\n",
       "      <td>25.028971</td>\n",
       "      <td>9.910376</td>\n",
       "      <td>116.589612</td>\n",
       "      <td>-65.813474</td>\n",
       "    </tr>\n",
       "    <tr>\n",
       "      <th>1054</th>\n",
       "      <td>0</td>\n",
       "      <td>67.736585</td>\n",
       "      <td>100.665923</td>\n",
       "      <td>-119.180139</td>\n",
       "      <td>-1.141789</td>\n",
       "      <td>16.884348</td>\n",
       "      <td>16.081193</td>\n",
       "    </tr>\n",
       "    <tr>\n",
       "      <th>1055</th>\n",
       "      <td>2</td>\n",
       "      <td>-1058.325217</td>\n",
       "      <td>8.232784</td>\n",
       "      <td>-40.203638</td>\n",
       "      <td>-22.725268</td>\n",
       "      <td>18.231221</td>\n",
       "      <td>8.081022</td>\n",
       "    </tr>\n",
       "    <tr>\n",
       "      <th>1056</th>\n",
       "      <td>2</td>\n",
       "      <td>560.664776</td>\n",
       "      <td>102.958668</td>\n",
       "      <td>93.177926</td>\n",
       "      <td>-154.921366</td>\n",
       "      <td>38.367290</td>\n",
       "      <td>31.255975</td>\n",
       "    </tr>\n",
       "  </tbody>\n",
       "</table>\n",
       "<p>1057 rows × 7 columns</p>\n",
       "</div>"
      ],
      "text/plain": [
       "        0            0           1           2           3           4  \\\n",
       "0     144   760.203243  329.952094  376.440237    2.302988  -34.904379   \n",
       "1       2   957.168539  -67.376376  -82.316641  -41.939012  -20.483594   \n",
       "2       0   203.148572  188.326208 -127.054260 -208.968904  103.578118   \n",
       "3       2  -789.322475  -10.492422   61.139680   27.412317  -10.285332   \n",
       "4       1   566.171305 -276.403619   70.545464   99.131772  135.220145   \n",
       "...   ...          ...         ...         ...         ...         ...   \n",
       "1052    0   419.862432  235.864167 -181.490748 -142.883733   62.967002   \n",
       "1053    1   146.227522  -38.413987   25.028971    9.910376  116.589612   \n",
       "1054    0    67.736585  100.665923 -119.180139   -1.141789   16.884348   \n",
       "1055    2 -1058.325217    8.232784  -40.203638  -22.725268   18.231221   \n",
       "1056    2   560.664776  102.958668   93.177926 -154.921366   38.367290   \n",
       "\n",
       "              5  \n",
       "0    -17.404857  \n",
       "1     14.209076  \n",
       "2    -87.610345  \n",
       "3     27.414280  \n",
       "4    -86.714053  \n",
       "...         ...  \n",
       "1052 -57.966901  \n",
       "1053 -65.813474  \n",
       "1054  16.081193  \n",
       "1055   8.081022  \n",
       "1056  31.255975  \n",
       "\n",
       "[1057 rows x 7 columns]"
      ]
     },
     "execution_count": 51,
     "metadata": {},
     "output_type": "execute_result"
    }
   ],
   "source": [
    "LOA_nonover = pd.read_csv(\"/Users/bhuvanakorrapati/Desktop/output/merge_LOA.csv\",header=None) \n",
    "data = np.array(LOA_nonover)\n",
    "row, col = data.shape\n",
    "dm = 6 # Try different dimensions\n",
    "pca3 = PCA(n_components=dm)\n",
    "score3 = pca3.fit_transform(data[:,0:144]) #col-1\n",
    "scores3 = pd.DataFrame(score3)\n",
    "scores3.reset_index(drop=True)\n",
    "y3 = data[:,144] #Label column\n",
    "y3d = pd.DataFrame(y3)\n",
    "sc3 = pd.concat((y3d,scores3),axis=1)\n",
    "sc3.reset_index(drop=True)"
   ]
  },
  {
   "cell_type": "code",
   "execution_count": 52,
   "id": "d55e418e",
   "metadata": {},
   "outputs": [
    {
     "name": "stdout",
     "output_type": "stream",
     "text": [
      "        0            0           1           2           3           4  \\\n",
      "0     144   760.203243  329.952094  376.440237    2.302988  -34.904379   \n",
      "1       2   957.168539  -67.376376  -82.316641  -41.939012  -20.483594   \n",
      "2       0   203.148572  188.326208 -127.054260 -208.968904  103.578118   \n",
      "3       2  -789.322475  -10.492422   61.139680   27.412317  -10.285332   \n",
      "4       1   566.171305 -276.403619   70.545464   99.131772  135.220145   \n",
      "...   ...          ...         ...         ...         ...         ...   \n",
      "1052    0   419.862432  235.864167 -181.490748 -142.883733   62.967002   \n",
      "1053    1   146.227522  -38.413987   25.028971    9.910376  116.589612   \n",
      "1054    0    67.736585  100.665923 -119.180139   -1.141789   16.884348   \n",
      "1055    2 -1058.325217    8.232784  -40.203638  -22.725268   18.231221   \n",
      "1056    2   560.664776  102.958668   93.177926 -154.921366   38.367290   \n",
      "\n",
      "              5  \n",
      "0    -17.404857  \n",
      "1     14.209076  \n",
      "2    -87.610345  \n",
      "3     27.414280  \n",
      "4    -86.714053  \n",
      "...         ...  \n",
      "1052 -57.966901  \n",
      "1053 -65.813474  \n",
      "1054  16.081193  \n",
      "1055   8.081022  \n",
      "1056  31.255975  \n",
      "\n",
      "[1057 rows x 7 columns]\n"
     ]
    }
   ],
   "source": [
    "print(sc3)"
   ]
  },
  {
   "cell_type": "code",
   "execution_count": 53,
   "id": "79dccb1c",
   "metadata": {},
   "outputs": [],
   "source": [
    "sc3.to_csv('/Users/bhuvanakorrapati/Desktop/output2/sc3.csv', index=False)"
   ]
  },
  {
   "cell_type": "code",
   "execution_count": 54,
   "id": "5217c626",
   "metadata": {},
   "outputs": [],
   "source": [
    "LOA_over = pd.read_csv(\"/Users/bhuvanakorrapati/Desktop/output/overlapping_merge_LOA.csv\",header=None) \n",
    "data = np.array(LOA_over)\n",
    "row, col = data.shape\n",
    "dm = 6 # Try different dimensions\n",
    "pca4 = PCA(n_components=dm)\n",
    "score4 = pca4.fit_transform(data[:,0:144]) #col-1\n",
    "scores4 = pd.DataFrame(score4)\n",
    "y4 = data[:,144] #Label column\n",
    "y4d = pd.DataFrame(y4)\n",
    "sc4 = pd.concat((y4d,scores4),axis=1)"
   ]
  },
  {
   "cell_type": "code",
   "execution_count": 55,
   "id": "97d36bdf",
   "metadata": {},
   "outputs": [
    {
     "name": "stdout",
     "output_type": "stream",
     "text": [
      "          0           0           1           2           3          4  \\\n",
      "0       144  709.311271  497.562457   35.940004   -5.676203 -27.592643   \n",
      "1         0 -216.582295 -147.681123   77.221542   31.717917 -47.318116   \n",
      "2         1 -534.402032  -31.275054  -44.351347    4.663220 -16.580985   \n",
      "3         1  631.196679  152.772346  296.064011    2.487116 -49.788202   \n",
      "4         1   -1.602238  -96.195607   -4.891841   -6.955798   2.738340   \n",
      "...     ...         ...         ...         ...         ...        ...   \n",
      "136076    0 -384.950163   73.349116  167.445752   29.487293 -10.408705   \n",
      "136077    0  501.288851  218.333670  -20.863059  -17.463665 -17.808594   \n",
      "136078    1  753.571349  112.471980  272.833605   23.822944 -55.087841   \n",
      "136079    0  -68.282779   45.518893  107.353295  -22.540965 -13.402218   \n",
      "136080    1   86.669300  -65.722673  -68.886740  113.213821  40.710667   \n",
      "\n",
      "                 5  \n",
      "0         6.326940  \n",
      "1        41.209660  \n",
      "2       -11.268898  \n",
      "3        76.832870  \n",
      "4        -4.506846  \n",
      "...            ...  \n",
      "136076  -13.099867  \n",
      "136077  -24.699119  \n",
      "136078  115.232436  \n",
      "136079   -8.750055  \n",
      "136080   16.443098  \n",
      "\n",
      "[136081 rows x 7 columns]\n"
     ]
    }
   ],
   "source": [
    "print(sc4)"
   ]
  },
  {
   "cell_type": "code",
   "execution_count": 56,
   "id": "8e3fe751",
   "metadata": {},
   "outputs": [],
   "source": [
    "sc4.to_csv('/Users/bhuvanakorrapati/Desktop/output2/sc4.csv', index=False)"
   ]
  },
  {
   "cell_type": "code",
   "execution_count": 17,
   "id": "22ffea12",
   "metadata": {},
   "outputs": [],
   "source": [
    "train_sc1 = sc1.sample(frac=0.8)\n",
    "test_sc1 = sc1.drop(train_sc1.index)\n",
    "\n"
   ]
  },
  {
   "cell_type": "code",
   "execution_count": 18,
   "id": "7dbadc80",
   "metadata": {},
   "outputs": [
    {
     "data": {
      "text/plain": [
       "(564, 7)"
      ]
     },
     "execution_count": 18,
     "metadata": {},
     "output_type": "execute_result"
    }
   ],
   "source": [
    "train_sc1.shape"
   ]
  },
  {
   "cell_type": "code",
   "execution_count": 19,
   "id": "02f842d9",
   "metadata": {},
   "outputs": [],
   "source": [
    "train_sc1.to_csv('/Users/bhuvanakorrapati/Desktop/output2/train_sc1.csv', index=False)\n",
    "test_sc1.to_csv('/Users/bhuvanakorrapati/Desktop/output2/test_sc1.csv', index=False)"
   ]
  },
  {
   "cell_type": "code",
   "execution_count": 20,
   "id": "945a1003",
   "metadata": {},
   "outputs": [],
   "source": [
    "train_sc2 = sc2.sample(frac=0.8)\n",
    "test_sc2 = sc2.drop(train_sc2.index)\n",
    "\n"
   ]
  },
  {
   "cell_type": "code",
   "execution_count": 21,
   "id": "4eb299e1",
   "metadata": {},
   "outputs": [
    {
     "data": {
      "text/plain": [
       "(72577, 7)"
      ]
     },
     "execution_count": 21,
     "metadata": {},
     "output_type": "execute_result"
    }
   ],
   "source": [
    "train_sc2.shape"
   ]
  },
  {
   "cell_type": "code",
   "execution_count": 22,
   "id": "b376ad0f",
   "metadata": {},
   "outputs": [],
   "source": [
    "train_sc2.to_csv('/Users/bhuvanakorrapati/Desktop/output2/train_sc2.csv', index=False)\n",
    "test_sc2.to_csv('/Users/bhuvanakorrapati/Desktop/output2/test_sc2.csv', index=False)"
   ]
  },
  {
   "cell_type": "code",
   "execution_count": 23,
   "id": "5b14135b",
   "metadata": {},
   "outputs": [],
   "source": [
    "train_sc3 = sc3.sample(frac=0.8)\n",
    "test_sc3 = sc3.drop(train_sc3.index)\n",
    "\n"
   ]
  },
  {
   "cell_type": "code",
   "execution_count": 24,
   "id": "7f20e7ba",
   "metadata": {},
   "outputs": [
    {
     "data": {
      "text/plain": [
       "(846, 7)"
      ]
     },
     "execution_count": 24,
     "metadata": {},
     "output_type": "execute_result"
    }
   ],
   "source": [
    "train_sc3.shape"
   ]
  },
  {
   "cell_type": "code",
   "execution_count": 25,
   "id": "d40cc6fb",
   "metadata": {},
   "outputs": [],
   "source": [
    "train_sc3.to_csv('/Users/bhuvanakorrapati/Desktop/output2/train_sc3.csv', index=False)\n",
    "test_sc3.to_csv('/Users/bhuvanakorrapati/Desktop/output2/test_sc3.csv', index=False)"
   ]
  },
  {
   "cell_type": "code",
   "execution_count": 26,
   "id": "8093089c",
   "metadata": {},
   "outputs": [],
   "source": [
    "train_sc4 = sc4.sample(frac=0.8)\n",
    "test_sc4 = sc4.drop(train_sc4.index)\n",
    "\n"
   ]
  },
  {
   "cell_type": "code",
   "execution_count": 27,
   "id": "0efeca80",
   "metadata": {},
   "outputs": [
    {
     "data": {
      "text/plain": [
       "(108865, 7)"
      ]
     },
     "execution_count": 27,
     "metadata": {},
     "output_type": "execute_result"
    }
   ],
   "source": [
    "train_sc4.shape"
   ]
  },
  {
   "cell_type": "code",
   "execution_count": 28,
   "id": "96283647",
   "metadata": {},
   "outputs": [],
   "source": [
    "train_sc4.to_csv('/Users/bhuvanakorrapati/Desktop/output2/train_sc4.csv', index=False)\n",
    "test_sc4.to_csv('/Users/bhuvanakorrapati/Desktop/output2/test_sc4.csv', index=False)"
   ]
  },
  {
   "cell_type": "code",
   "execution_count": 29,
   "id": "c5dd24ac",
   "metadata": {},
   "outputs": [
    {
     "name": "stdout",
     "output_type": "stream",
     "text": [
      "        0            0\n",
      "114585  0  1010.967719\n",
      "20795   0  -733.057575\n",
      "46864   0  1234.592576\n",
      "135746  1     0.168142\n",
      "50707   0  -216.903207\n",
      "...    ..          ...\n",
      "52461   0  -634.877824\n",
      "113819  0  -232.953410\n",
      "27217   0   208.012643\n",
      "42364   1  -467.628585\n",
      "95875   0  -270.894108\n",
      "\n",
      "[108865 rows x 2 columns]\n"
     ]
    }
   ],
   "source": [
    "a = train_sc4[0]\n",
    "print(a)"
   ]
  },
  {
   "cell_type": "code",
   "execution_count": 30,
   "id": "2ea3a239",
   "metadata": {},
   "outputs": [
    {
     "ename": "KeyError",
     "evalue": "'[144] not found in axis'",
     "output_type": "error",
     "traceback": [
      "\u001b[0;31m---------------------------------------------------------------------------\u001b[0m",
      "\u001b[0;31mKeyError\u001b[0m                                  Traceback (most recent call last)",
      "\u001b[0;32m/var/folders/mr/z5vbd8j17q99ss77c6j4__2h0000gn/T/ipykernel_3165/3835777411.py\u001b[0m in \u001b[0;36m<module>\u001b[0;34m\u001b[0m\n\u001b[1;32m     13\u001b[0m \u001b[0my\u001b[0m \u001b[0;34m=\u001b[0m \u001b[0minput_data_train\u001b[0m\u001b[0;34m[\u001b[0m\u001b[0;36m0\u001b[0m\u001b[0;34m]\u001b[0m\u001b[0;34m\u001b[0m\u001b[0;34m\u001b[0m\u001b[0m\n\u001b[1;32m     14\u001b[0m \u001b[0;34m\u001b[0m\u001b[0m\n\u001b[0;32m---> 15\u001b[0;31m \u001b[0minput_data_train\u001b[0m\u001b[0;34m.\u001b[0m\u001b[0mdrop\u001b[0m\u001b[0;34m(\u001b[0m\u001b[0;36m144\u001b[0m\u001b[0;34m,\u001b[0m\u001b[0maxis\u001b[0m\u001b[0;34m=\u001b[0m\u001b[0;36m1\u001b[0m\u001b[0;34m,\u001b[0m\u001b[0minplace\u001b[0m\u001b[0;34m=\u001b[0m\u001b[0;32mTrue\u001b[0m\u001b[0;34m)\u001b[0m\u001b[0;34m\u001b[0m\u001b[0;34m\u001b[0m\u001b[0m\n\u001b[0m\u001b[1;32m     16\u001b[0m \u001b[0mX\u001b[0m \u001b[0;34m=\u001b[0m \u001b[0minput_data_train\u001b[0m\u001b[0;34m\u001b[0m\u001b[0;34m\u001b[0m\u001b[0m\n\u001b[1;32m     17\u001b[0m \u001b[0;34m\u001b[0m\u001b[0m\n",
      "\u001b[0;32m~/opt/anaconda3/lib/python3.9/site-packages/pandas/util/_decorators.py\u001b[0m in \u001b[0;36mwrapper\u001b[0;34m(*args, **kwargs)\u001b[0m\n\u001b[1;32m    309\u001b[0m                     \u001b[0mstacklevel\u001b[0m\u001b[0;34m=\u001b[0m\u001b[0mstacklevel\u001b[0m\u001b[0;34m,\u001b[0m\u001b[0;34m\u001b[0m\u001b[0;34m\u001b[0m\u001b[0m\n\u001b[1;32m    310\u001b[0m                 )\n\u001b[0;32m--> 311\u001b[0;31m             \u001b[0;32mreturn\u001b[0m \u001b[0mfunc\u001b[0m\u001b[0;34m(\u001b[0m\u001b[0;34m*\u001b[0m\u001b[0margs\u001b[0m\u001b[0;34m,\u001b[0m \u001b[0;34m**\u001b[0m\u001b[0mkwargs\u001b[0m\u001b[0;34m)\u001b[0m\u001b[0;34m\u001b[0m\u001b[0;34m\u001b[0m\u001b[0m\n\u001b[0m\u001b[1;32m    312\u001b[0m \u001b[0;34m\u001b[0m\u001b[0m\n\u001b[1;32m    313\u001b[0m         \u001b[0;32mreturn\u001b[0m \u001b[0mwrapper\u001b[0m\u001b[0;34m\u001b[0m\u001b[0;34m\u001b[0m\u001b[0m\n",
      "\u001b[0;32m~/opt/anaconda3/lib/python3.9/site-packages/pandas/core/frame.py\u001b[0m in \u001b[0;36mdrop\u001b[0;34m(self, labels, axis, index, columns, level, inplace, errors)\u001b[0m\n\u001b[1;32m   4955\u001b[0m                 \u001b[0mweight\u001b[0m  \u001b[0;36m1.0\u001b[0m     \u001b[0;36m0.8\u001b[0m\u001b[0;34m\u001b[0m\u001b[0;34m\u001b[0m\u001b[0m\n\u001b[1;32m   4956\u001b[0m         \"\"\"\n\u001b[0;32m-> 4957\u001b[0;31m         return super().drop(\n\u001b[0m\u001b[1;32m   4958\u001b[0m             \u001b[0mlabels\u001b[0m\u001b[0;34m=\u001b[0m\u001b[0mlabels\u001b[0m\u001b[0;34m,\u001b[0m\u001b[0;34m\u001b[0m\u001b[0;34m\u001b[0m\u001b[0m\n\u001b[1;32m   4959\u001b[0m             \u001b[0maxis\u001b[0m\u001b[0;34m=\u001b[0m\u001b[0maxis\u001b[0m\u001b[0;34m,\u001b[0m\u001b[0;34m\u001b[0m\u001b[0;34m\u001b[0m\u001b[0m\n",
      "\u001b[0;32m~/opt/anaconda3/lib/python3.9/site-packages/pandas/core/generic.py\u001b[0m in \u001b[0;36mdrop\u001b[0;34m(self, labels, axis, index, columns, level, inplace, errors)\u001b[0m\n\u001b[1;32m   4265\u001b[0m         \u001b[0;32mfor\u001b[0m \u001b[0maxis\u001b[0m\u001b[0;34m,\u001b[0m \u001b[0mlabels\u001b[0m \u001b[0;32min\u001b[0m \u001b[0maxes\u001b[0m\u001b[0;34m.\u001b[0m\u001b[0mitems\u001b[0m\u001b[0;34m(\u001b[0m\u001b[0;34m)\u001b[0m\u001b[0;34m:\u001b[0m\u001b[0;34m\u001b[0m\u001b[0;34m\u001b[0m\u001b[0m\n\u001b[1;32m   4266\u001b[0m             \u001b[0;32mif\u001b[0m \u001b[0mlabels\u001b[0m \u001b[0;32mis\u001b[0m \u001b[0;32mnot\u001b[0m \u001b[0;32mNone\u001b[0m\u001b[0;34m:\u001b[0m\u001b[0;34m\u001b[0m\u001b[0;34m\u001b[0m\u001b[0m\n\u001b[0;32m-> 4267\u001b[0;31m                 \u001b[0mobj\u001b[0m \u001b[0;34m=\u001b[0m \u001b[0mobj\u001b[0m\u001b[0;34m.\u001b[0m\u001b[0m_drop_axis\u001b[0m\u001b[0;34m(\u001b[0m\u001b[0mlabels\u001b[0m\u001b[0;34m,\u001b[0m \u001b[0maxis\u001b[0m\u001b[0;34m,\u001b[0m \u001b[0mlevel\u001b[0m\u001b[0;34m=\u001b[0m\u001b[0mlevel\u001b[0m\u001b[0;34m,\u001b[0m \u001b[0merrors\u001b[0m\u001b[0;34m=\u001b[0m\u001b[0merrors\u001b[0m\u001b[0;34m)\u001b[0m\u001b[0;34m\u001b[0m\u001b[0;34m\u001b[0m\u001b[0m\n\u001b[0m\u001b[1;32m   4268\u001b[0m \u001b[0;34m\u001b[0m\u001b[0m\n\u001b[1;32m   4269\u001b[0m         \u001b[0;32mif\u001b[0m \u001b[0minplace\u001b[0m\u001b[0;34m:\u001b[0m\u001b[0;34m\u001b[0m\u001b[0;34m\u001b[0m\u001b[0m\n",
      "\u001b[0;32m~/opt/anaconda3/lib/python3.9/site-packages/pandas/core/generic.py\u001b[0m in \u001b[0;36m_drop_axis\u001b[0;34m(self, labels, axis, level, errors, consolidate, only_slice)\u001b[0m\n\u001b[1;32m   4309\u001b[0m                 \u001b[0mnew_axis\u001b[0m \u001b[0;34m=\u001b[0m \u001b[0maxis\u001b[0m\u001b[0;34m.\u001b[0m\u001b[0mdrop\u001b[0m\u001b[0;34m(\u001b[0m\u001b[0mlabels\u001b[0m\u001b[0;34m,\u001b[0m \u001b[0mlevel\u001b[0m\u001b[0;34m=\u001b[0m\u001b[0mlevel\u001b[0m\u001b[0;34m,\u001b[0m \u001b[0merrors\u001b[0m\u001b[0;34m=\u001b[0m\u001b[0merrors\u001b[0m\u001b[0;34m)\u001b[0m\u001b[0;34m\u001b[0m\u001b[0;34m\u001b[0m\u001b[0m\n\u001b[1;32m   4310\u001b[0m             \u001b[0;32melse\u001b[0m\u001b[0;34m:\u001b[0m\u001b[0;34m\u001b[0m\u001b[0;34m\u001b[0m\u001b[0m\n\u001b[0;32m-> 4311\u001b[0;31m                 \u001b[0mnew_axis\u001b[0m \u001b[0;34m=\u001b[0m \u001b[0maxis\u001b[0m\u001b[0;34m.\u001b[0m\u001b[0mdrop\u001b[0m\u001b[0;34m(\u001b[0m\u001b[0mlabels\u001b[0m\u001b[0;34m,\u001b[0m \u001b[0merrors\u001b[0m\u001b[0;34m=\u001b[0m\u001b[0merrors\u001b[0m\u001b[0;34m)\u001b[0m\u001b[0;34m\u001b[0m\u001b[0;34m\u001b[0m\u001b[0m\n\u001b[0m\u001b[1;32m   4312\u001b[0m             \u001b[0mindexer\u001b[0m \u001b[0;34m=\u001b[0m \u001b[0maxis\u001b[0m\u001b[0;34m.\u001b[0m\u001b[0mget_indexer\u001b[0m\u001b[0;34m(\u001b[0m\u001b[0mnew_axis\u001b[0m\u001b[0;34m)\u001b[0m\u001b[0;34m\u001b[0m\u001b[0;34m\u001b[0m\u001b[0m\n\u001b[1;32m   4313\u001b[0m \u001b[0;34m\u001b[0m\u001b[0m\n",
      "\u001b[0;32m~/opt/anaconda3/lib/python3.9/site-packages/pandas/core/indexes/base.py\u001b[0m in \u001b[0;36mdrop\u001b[0;34m(self, labels, errors)\u001b[0m\n\u001b[1;32m   6659\u001b[0m         \u001b[0;32mif\u001b[0m \u001b[0mmask\u001b[0m\u001b[0;34m.\u001b[0m\u001b[0many\u001b[0m\u001b[0;34m(\u001b[0m\u001b[0;34m)\u001b[0m\u001b[0;34m:\u001b[0m\u001b[0;34m\u001b[0m\u001b[0;34m\u001b[0m\u001b[0m\n\u001b[1;32m   6660\u001b[0m             \u001b[0;32mif\u001b[0m \u001b[0merrors\u001b[0m \u001b[0;34m!=\u001b[0m \u001b[0;34m\"ignore\"\u001b[0m\u001b[0;34m:\u001b[0m\u001b[0;34m\u001b[0m\u001b[0;34m\u001b[0m\u001b[0m\n\u001b[0;32m-> 6661\u001b[0;31m                 \u001b[0;32mraise\u001b[0m \u001b[0mKeyError\u001b[0m\u001b[0;34m(\u001b[0m\u001b[0;34mf\"{list(labels[mask])} not found in axis\"\u001b[0m\u001b[0;34m)\u001b[0m\u001b[0;34m\u001b[0m\u001b[0;34m\u001b[0m\u001b[0m\n\u001b[0m\u001b[1;32m   6662\u001b[0m             \u001b[0mindexer\u001b[0m \u001b[0;34m=\u001b[0m \u001b[0mindexer\u001b[0m\u001b[0;34m[\u001b[0m\u001b[0;34m~\u001b[0m\u001b[0mmask\u001b[0m\u001b[0;34m]\u001b[0m\u001b[0;34m\u001b[0m\u001b[0;34m\u001b[0m\u001b[0m\n\u001b[1;32m   6663\u001b[0m         \u001b[0;32mreturn\u001b[0m \u001b[0mself\u001b[0m\u001b[0;34m.\u001b[0m\u001b[0mdelete\u001b[0m\u001b[0;34m(\u001b[0m\u001b[0mindexer\u001b[0m\u001b[0;34m)\u001b[0m\u001b[0;34m\u001b[0m\u001b[0;34m\u001b[0m\u001b[0m\n",
      "\u001b[0;31mKeyError\u001b[0m: '[144] not found in axis'"
     ]
    }
   ],
   "source": [
    "import pandas as pd\n",
    "import numpy as np\n",
    "from numpy.linalg import inv\n",
    "import matplotlib.pyplot as plt\n",
    "from sklearn.metrics import confusion_matrix\n",
    "from sklearn.ensemble import RandomForestClassifier\n",
    "import seaborn as sns\n",
    "from sklearn import metrics\n",
    "from sklearn.metrics import classification_report\n",
    "\n",
    "input_data_train = pd.read_csv(\"/Users/bhuvanakorrapati/Desktop/output2/train_sc1.csv\",header=None)\n",
    "\n",
    "y = input_data_train[0]\n",
    "\n",
    "input_data_train.drop(144,axis=1,inplace=True)\n",
    "X = input_data_train\n",
    "\n",
    "X1 = np.array(X)\n",
    "X2 = X1.transpose()\n",
    "XX = np.matmul(X2, X1)\n",
    "\n",
    "IX = inv(XX)\n",
    "TX = np.matmul(X1, IX)\n",
    "\n",
    "Y1 = np.array(y)\n",
    "Y2 = Y1.transpose()\n",
    "\n",
    "A = np.matmul(Y2, TX)\n",
    "\n",
    "Œª=0.09\n",
    "h=np.sign(A) \n",
    "L1=(A-(Œª/2)*h)  \n",
    "LR=np.matmul(L1,IX)\n",
    "\n",
    "Z1 = np.matmul(X1, LR)\n",
    "\n",
    "input_data_1= pd.read_csv(\"/Users/bhuvanakorrapati/Desktop/output2/test_sc1.csv\",header=None)[1:]\n",
    "y_tt = input_data_1[144]\n",
    "\n",
    "input_data_1\n",
    "\n",
    "input_data_1.drop(144,axis=1,inplace=True)\n",
    "\n",
    "X_tt = input_data_1\n",
    "X_tt1=np.array(X_tt)\n",
    "Z1_test=np.matmul(X_tt1,LR)\n",
    "Z_mean=Z1_test>Z1_test.mean()\n",
    "\n",
    "a_int=np.multiply(Z_mean,1)\n",
    "predicted=pd.read_csv(\"/Users/bhuvanakorrapati/Desktop/output2/test_sc1.csv\",header=None)[1:]\n",
    "predicted[145]=a_int\n",
    "predicted.to_csv(\"/Users/bhuvanakorrapati/Desktop/output2/PCA_sc1.csv\")\n"
   ]
  },
  {
   "cell_type": "code",
   "execution_count": 31,
   "id": "6f67d454",
   "metadata": {},
   "outputs": [
    {
     "ename": "NameError",
     "evalue": "name 'y_tt' is not defined",
     "output_type": "error",
     "traceback": [
      "\u001b[0;31m---------------------------------------------------------------------------\u001b[0m",
      "\u001b[0;31mNameError\u001b[0m                                 Traceback (most recent call last)",
      "\u001b[0;32m/var/folders/mr/z5vbd8j17q99ss77c6j4__2h0000gn/T/ipykernel_3165/2013206324.py\u001b[0m in \u001b[0;36m<module>\u001b[0;34m\u001b[0m\n\u001b[0;32m----> 1\u001b[0;31m \u001b[0mCC_test\u001b[0m \u001b[0;34m=\u001b[0m \u001b[0mconfusion_matrix\u001b[0m\u001b[0;34m(\u001b[0m\u001b[0my_tt\u001b[0m\u001b[0;34m,\u001b[0m \u001b[0ma_int\u001b[0m\u001b[0;34m,\u001b[0m\u001b[0mlabels\u001b[0m\u001b[0;34m=\u001b[0m\u001b[0;34m[\u001b[0m\u001b[0;36m0\u001b[0m\u001b[0;34m,\u001b[0m\u001b[0;36m1\u001b[0m\u001b[0;34m,\u001b[0m\u001b[0;36m2\u001b[0m\u001b[0;34m]\u001b[0m\u001b[0;34m)\u001b[0m\u001b[0;34m\u001b[0m\u001b[0;34m\u001b[0m\u001b[0m\n\u001b[0m\u001b[1;32m      2\u001b[0m \u001b[0;34m\u001b[0m\u001b[0m\n\u001b[1;32m      3\u001b[0m \u001b[0mpredicted\u001b[0m\u001b[0;34m[\u001b[0m\u001b[0;36m144\u001b[0m\u001b[0;34m]\u001b[0m\u001b[0;34m\u001b[0m\u001b[0;34m\u001b[0m\u001b[0m\n\u001b[1;32m      4\u001b[0m \u001b[0;34m\u001b[0m\u001b[0m\n\u001b[1;32m      5\u001b[0m \u001b[0mtype\u001b[0m\u001b[0;34m(\u001b[0m\u001b[0mpredicted\u001b[0m\u001b[0;34m)\u001b[0m\u001b[0;34m\u001b[0m\u001b[0;34m\u001b[0m\u001b[0m\n",
      "\u001b[0;31mNameError\u001b[0m: name 'y_tt' is not defined"
     ]
    }
   ],
   "source": [
    "CC_test = confusion_matrix(y_tt, a_int,labels=[0,1,2])\n",
    "\n",
    "predicted[144]\n",
    "\n",
    "type(predicted)\n",
    "\n",
    "sns.heatmap(CC_test, annot=True,fmt=\"d\")\n",
    "\n",
    "TN = CC_test[1,1]\n",
    "FP = CC_test[1,0]\n",
    "FN = CC_test[0,1]\n",
    "TP = CC_test[0,0]\n",
    "\n",
    "FPFN = FP+FN\n",
    "TPTN = TP+TN\n",
    "\n",
    "Accuracy = 1/(1+(FPFN/TPTN))\n",
    "print(\"Our_Accuracy_Score:\",Accuracy)\n",
    "Precision = 1/(1+(FP/TP))\n",
    "print(\"Our_Precision_Score:\",Precision)\n",
    "Sensitivity = 1/(1+(FN/TP))\n",
    "print(\"Our_Sensitivity_Score:\",Sensitivity)\n",
    "Specificity = 1/(1+(FP/TN))\n",
    "print(\"Our_Specificity_Score:\",Specificity)"
   ]
  },
  {
   "cell_type": "code",
   "execution_count": null,
   "id": "22bc9ec0",
   "metadata": {},
   "outputs": [],
   "source": []
  }
 ],
 "metadata": {
  "kernelspec": {
   "display_name": "Python 3 (ipykernel)",
   "language": "python",
   "name": "python3"
  },
  "language_info": {
   "codemirror_mode": {
    "name": "ipython",
    "version": 3
   },
   "file_extension": ".py",
   "mimetype": "text/x-python",
   "name": "python",
   "nbconvert_exporter": "python",
   "pygments_lexer": "ipython3",
   "version": "3.9.13"
  }
 },
 "nbformat": 4,
 "nbformat_minor": 5
}
